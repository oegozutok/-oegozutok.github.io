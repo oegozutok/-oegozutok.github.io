{
 "cells": [
  {
   "cell_type": "code",
   "execution_count": 1,
   "id": "477de4c4",
   "metadata": {
    "_cell_guid": "b1076dfc-b9ad-4769-8c92-a6c4dae69d19",
    "_uuid": "8f2839f25d086af736a60e9eeb907d3b93b6e0e5",
    "execution": {
     "iopub.execute_input": "2024-02-18T19:58:59.638587Z",
     "iopub.status.busy": "2024-02-18T19:58:59.638204Z",
     "iopub.status.idle": "2024-02-18T19:59:00.364995Z",
     "shell.execute_reply": "2024-02-18T19:59:00.364130Z"
    },
    "papermill": {
     "duration": 0.747302,
     "end_time": "2024-02-18T19:59:00.367106",
     "exception": false,
     "start_time": "2024-02-18T19:58:59.619804",
     "status": "completed"
    },
    "tags": []
   },
   "outputs": [
    {
     "name": "stdout",
     "output_type": "stream",
     "text": [
      "/kaggle/input/twitter-entity-sentiment-analysis/twitter_validation.csv\n",
      "/kaggle/input/twitter-entity-sentiment-analysis/twitter_training.csv\n"
     ]
    }
   ],
   "source": [
    "# This Python 3 environment comes with many helpful analytics libraries installed\n",
    "# It is defined by the kaggle/python Docker image: https://github.com/kaggle/docker-python\n",
    "# For example, here's several helpful packages to load\n",
    "\n",
    "import numpy as np # linear algebra\n",
    "import pandas as pd # data processing, CSV file I/O (e.g. pd.read_csv)\n",
    "\n",
    "# Input data files are available in the read-only \"../input/\" directory\n",
    "# For example, running this (by clicking run or pressing Shift+Enter) will list all files under the input directory\n",
    "\n",
    "import os\n",
    "for dirname, _, filenames in os.walk('/kaggle/input'):\n",
    "    for filename in filenames:\n",
    "        print(os.path.join(dirname, filename))\n",
    "\n",
    "# You can write up to 20GB to the current directory (/kaggle/working/) that gets preserved as output when you create a version using \"Save & Run All\" \n",
    "# You can also write temporary files to /kaggle/temp/, but they won't be saved outside of the current session"
   ]
  },
  {
   "cell_type": "markdown",
   "id": "925a9eba",
   "metadata": {
    "papermill": {
     "duration": 0.016207,
     "end_time": "2024-02-18T19:59:00.400125",
     "exception": false,
     "start_time": "2024-02-18T19:59:00.383918",
     "status": "completed"
    },
    "tags": []
   },
   "source": [
    "# 1| Reading and preprocessing data"
   ]
  },
  {
   "cell_type": "code",
   "execution_count": 2,
   "id": "6db1ec43",
   "metadata": {
    "execution": {
     "iopub.execute_input": "2024-02-18T19:59:00.434687Z",
     "iopub.status.busy": "2024-02-18T19:59:00.434268Z",
     "iopub.status.idle": "2024-02-18T19:59:02.344746Z",
     "shell.execute_reply": "2024-02-18T19:59:02.343943Z"
    },
    "papermill": {
     "duration": 1.929721,
     "end_time": "2024-02-18T19:59:02.347000",
     "exception": false,
     "start_time": "2024-02-18T19:59:00.417279",
     "status": "completed"
    },
    "tags": []
   },
   "outputs": [],
   "source": [
    "import seaborn as sns\n",
    "from wordcloud import WordCloud\n",
    "import re\n",
    "from nltk.corpus import stopwords"
   ]
  },
  {
   "cell_type": "code",
   "execution_count": 3,
   "id": "d3020980",
   "metadata": {
    "execution": {
     "iopub.execute_input": "2024-02-18T19:59:02.381585Z",
     "iopub.status.busy": "2024-02-18T19:59:02.380968Z",
     "iopub.status.idle": "2024-02-18T19:59:02.384970Z",
     "shell.execute_reply": "2024-02-18T19:59:02.384182Z"
    },
    "papermill": {
     "duration": 0.022964,
     "end_time": "2024-02-18T19:59:02.386881",
     "exception": false,
     "start_time": "2024-02-18T19:59:02.363917",
     "status": "completed"
    },
    "tags": []
   },
   "outputs": [],
   "source": [
    "col_text = 'im getting on borderlands and i will murder you all ,'"
   ]
  },
  {
   "cell_type": "code",
   "execution_count": 4,
   "id": "662df58c",
   "metadata": {
    "execution": {
     "iopub.execute_input": "2024-02-18T19:59:02.419949Z",
     "iopub.status.busy": "2024-02-18T19:59:02.419693Z",
     "iopub.status.idle": "2024-02-18T19:59:02.716132Z",
     "shell.execute_reply": "2024-02-18T19:59:02.715047Z"
    },
    "papermill": {
     "duration": 0.315662,
     "end_time": "2024-02-18T19:59:02.718575",
     "exception": false,
     "start_time": "2024-02-18T19:59:02.402913",
     "status": "completed"
    },
    "tags": []
   },
   "outputs": [],
   "source": [
    "df_train = pd.read_csv(\"/kaggle/input/twitter-entity-sentiment-analysis/twitter_training.csv\")"
   ]
  },
  {
   "cell_type": "code",
   "execution_count": 5,
   "id": "da821280",
   "metadata": {
    "execution": {
     "iopub.execute_input": "2024-02-18T19:59:02.752711Z",
     "iopub.status.busy": "2024-02-18T19:59:02.752383Z",
     "iopub.status.idle": "2024-02-18T19:59:02.780836Z",
     "shell.execute_reply": "2024-02-18T19:59:02.779796Z"
    },
    "papermill": {
     "duration": 0.047565,
     "end_time": "2024-02-18T19:59:02.782730",
     "exception": false,
     "start_time": "2024-02-18T19:59:02.735165",
     "status": "completed"
    },
    "tags": []
   },
   "outputs": [
    {
     "data": {
      "text/html": [
       "<div>\n",
       "<style scoped>\n",
       "    .dataframe tbody tr th:only-of-type {\n",
       "        vertical-align: middle;\n",
       "    }\n",
       "\n",
       "    .dataframe tbody tr th {\n",
       "        vertical-align: top;\n",
       "    }\n",
       "\n",
       "    .dataframe thead th {\n",
       "        text-align: right;\n",
       "    }\n",
       "</style>\n",
       "<table border=\"1\" class=\"dataframe\">\n",
       "  <thead>\n",
       "    <tr style=\"text-align: right;\">\n",
       "      <th></th>\n",
       "      <th>Positive</th>\n",
       "      <th>im getting on borderlands and i will murder you all ,</th>\n",
       "    </tr>\n",
       "  </thead>\n",
       "  <tbody>\n",
       "    <tr>\n",
       "      <th>0</th>\n",
       "      <td>Positive</td>\n",
       "      <td>I am coming to the borders and I will kill you...</td>\n",
       "    </tr>\n",
       "    <tr>\n",
       "      <th>1</th>\n",
       "      <td>Positive</td>\n",
       "      <td>im getting on borderlands and i will kill you ...</td>\n",
       "    </tr>\n",
       "    <tr>\n",
       "      <th>2</th>\n",
       "      <td>Positive</td>\n",
       "      <td>im coming on borderlands and i will murder you...</td>\n",
       "    </tr>\n",
       "    <tr>\n",
       "      <th>3</th>\n",
       "      <td>Positive</td>\n",
       "      <td>im getting on borderlands 2 and i will murder ...</td>\n",
       "    </tr>\n",
       "    <tr>\n",
       "      <th>4</th>\n",
       "      <td>Positive</td>\n",
       "      <td>im getting into borderlands and i can murder y...</td>\n",
       "    </tr>\n",
       "    <tr>\n",
       "      <th>...</th>\n",
       "      <td>...</td>\n",
       "      <td>...</td>\n",
       "    </tr>\n",
       "    <tr>\n",
       "      <th>74676</th>\n",
       "      <td>Positive</td>\n",
       "      <td>Just realized that the Windows partition of my...</td>\n",
       "    </tr>\n",
       "    <tr>\n",
       "      <th>74677</th>\n",
       "      <td>Positive</td>\n",
       "      <td>Just realized that my Mac window partition is ...</td>\n",
       "    </tr>\n",
       "    <tr>\n",
       "      <th>74678</th>\n",
       "      <td>Positive</td>\n",
       "      <td>Just realized the windows partition of my Mac ...</td>\n",
       "    </tr>\n",
       "    <tr>\n",
       "      <th>74679</th>\n",
       "      <td>Positive</td>\n",
       "      <td>Just realized between the windows partition of...</td>\n",
       "    </tr>\n",
       "    <tr>\n",
       "      <th>74680</th>\n",
       "      <td>Positive</td>\n",
       "      <td>Just like the windows partition of my Mac is l...</td>\n",
       "    </tr>\n",
       "  </tbody>\n",
       "</table>\n",
       "<p>74681 rows × 2 columns</p>\n",
       "</div>"
      ],
      "text/plain": [
       "       Positive im getting on borderlands and i will murder you all ,\n",
       "0      Positive  I am coming to the borders and I will kill you...   \n",
       "1      Positive  im getting on borderlands and i will kill you ...   \n",
       "2      Positive  im coming on borderlands and i will murder you...   \n",
       "3      Positive  im getting on borderlands 2 and i will murder ...   \n",
       "4      Positive  im getting into borderlands and i can murder y...   \n",
       "...         ...                                                ...   \n",
       "74676  Positive  Just realized that the Windows partition of my...   \n",
       "74677  Positive  Just realized that my Mac window partition is ...   \n",
       "74678  Positive  Just realized the windows partition of my Mac ...   \n",
       "74679  Positive  Just realized between the windows partition of...   \n",
       "74680  Positive  Just like the windows partition of my Mac is l...   \n",
       "\n",
       "[74681 rows x 2 columns]"
      ]
     },
     "execution_count": 5,
     "metadata": {},
     "output_type": "execute_result"
    }
   ],
   "source": [
    "df_train=df_train.drop(\"2401\",axis=1)\n",
    "df_train=df_train.drop(\"Borderlands\",axis=1)\n",
    "df_train"
   ]
  },
  {
   "cell_type": "code",
   "execution_count": 6,
   "id": "9b11a519",
   "metadata": {
    "execution": {
     "iopub.execute_input": "2024-02-18T19:59:02.816943Z",
     "iopub.status.busy": "2024-02-18T19:59:02.816637Z",
     "iopub.status.idle": "2024-02-18T19:59:02.822821Z",
     "shell.execute_reply": "2024-02-18T19:59:02.821922Z"
    },
    "papermill": {
     "duration": 0.025506,
     "end_time": "2024-02-18T19:59:02.824687",
     "exception": false,
     "start_time": "2024-02-18T19:59:02.799181",
     "status": "completed"
    },
    "tags": []
   },
   "outputs": [],
   "source": [
    "def clean_text(text):\n",
    "    if isinstance(text, str):\n",
    "        # Remove numbers\n",
    "        text = re.sub(r'\\d+', '', text)\n",
    "\n",
    "        # Remove special characters\n",
    "        str_text = re.sub(r'[^\\w\\s]', '', text)\n",
    "\n",
    "        # Remove stop words\n",
    "        stop_words = set(stopwords.words('english'))\n",
    "        tokens = str_text.lower().split()\n",
    "        str_text = ' '.join([word for word in tokens if word not in stop_words])\n",
    "        return str_text\n",
    "    else:\n",
    "        return text"
   ]
  },
  {
   "cell_type": "code",
   "execution_count": 7,
   "id": "cfa559e1",
   "metadata": {
    "execution": {
     "iopub.execute_input": "2024-02-18T19:59:02.859475Z",
     "iopub.status.busy": "2024-02-18T19:59:02.858741Z",
     "iopub.status.idle": "2024-02-18T19:59:13.911287Z",
     "shell.execute_reply": "2024-02-18T19:59:13.910203Z"
    },
    "papermill": {
     "duration": 11.072222,
     "end_time": "2024-02-18T19:59:13.913698",
     "exception": false,
     "start_time": "2024-02-18T19:59:02.841476",
     "status": "completed"
    },
    "tags": []
   },
   "outputs": [],
   "source": [
    "df_train[\"Text\"] = df_train[col_text].apply(clean_text)"
   ]
  },
  {
   "cell_type": "code",
   "execution_count": 8,
   "id": "83ad0329",
   "metadata": {
    "execution": {
     "iopub.execute_input": "2024-02-18T19:59:13.948394Z",
     "iopub.status.busy": "2024-02-18T19:59:13.947767Z",
     "iopub.status.idle": "2024-02-18T19:59:13.994626Z",
     "shell.execute_reply": "2024-02-18T19:59:13.993936Z"
    },
    "papermill": {
     "duration": 0.06599,
     "end_time": "2024-02-18T19:59:13.996455",
     "exception": false,
     "start_time": "2024-02-18T19:59:13.930465",
     "status": "completed"
    },
    "tags": []
   },
   "outputs": [],
   "source": [
    "df_train_POS = df_train[df_train[\"Positive\"] == \"Positive\"]\n",
    "df_train_NEG = df_train[df_train[\"Positive\"] == \"Negative\"]\n",
    "df_train_NEU = df_train[df_train[\"Positive\"] == \"Neutral\"]"
   ]
  },
  {
   "cell_type": "code",
   "execution_count": 9,
   "id": "6f68b69f",
   "metadata": {
    "execution": {
     "iopub.execute_input": "2024-02-18T19:59:14.030592Z",
     "iopub.status.busy": "2024-02-18T19:59:14.029871Z",
     "iopub.status.idle": "2024-02-18T19:59:14.039976Z",
     "shell.execute_reply": "2024-02-18T19:59:14.039169Z"
    },
    "papermill": {
     "duration": 0.029252,
     "end_time": "2024-02-18T19:59:14.041977",
     "exception": false,
     "start_time": "2024-02-18T19:59:14.012725",
     "status": "completed"
    },
    "tags": []
   },
   "outputs": [
    {
     "data": {
      "text/html": [
       "<div>\n",
       "<style scoped>\n",
       "    .dataframe tbody tr th:only-of-type {\n",
       "        vertical-align: middle;\n",
       "    }\n",
       "\n",
       "    .dataframe tbody tr th {\n",
       "        vertical-align: top;\n",
       "    }\n",
       "\n",
       "    .dataframe thead th {\n",
       "        text-align: right;\n",
       "    }\n",
       "</style>\n",
       "<table border=\"1\" class=\"dataframe\">\n",
       "  <thead>\n",
       "    <tr style=\"text-align: right;\">\n",
       "      <th></th>\n",
       "      <th>Positive</th>\n",
       "      <th>im getting on borderlands and i will murder you all ,</th>\n",
       "      <th>Text</th>\n",
       "    </tr>\n",
       "  </thead>\n",
       "  <tbody>\n",
       "    <tr>\n",
       "      <th>0</th>\n",
       "      <td>Positive</td>\n",
       "      <td>I am coming to the borders and I will kill you...</td>\n",
       "      <td>coming borders kill</td>\n",
       "    </tr>\n",
       "    <tr>\n",
       "      <th>1</th>\n",
       "      <td>Positive</td>\n",
       "      <td>im getting on borderlands and i will kill you ...</td>\n",
       "      <td>im getting borderlands kill</td>\n",
       "    </tr>\n",
       "    <tr>\n",
       "      <th>2</th>\n",
       "      <td>Positive</td>\n",
       "      <td>im coming on borderlands and i will murder you...</td>\n",
       "      <td>im coming borderlands murder</td>\n",
       "    </tr>\n",
       "    <tr>\n",
       "      <th>3</th>\n",
       "      <td>Positive</td>\n",
       "      <td>im getting on borderlands 2 and i will murder ...</td>\n",
       "      <td>im getting borderlands murder</td>\n",
       "    </tr>\n",
       "    <tr>\n",
       "      <th>4</th>\n",
       "      <td>Positive</td>\n",
       "      <td>im getting into borderlands and i can murder y...</td>\n",
       "      <td>im getting borderlands murder</td>\n",
       "    </tr>\n",
       "    <tr>\n",
       "      <th>...</th>\n",
       "      <td>...</td>\n",
       "      <td>...</td>\n",
       "      <td>...</td>\n",
       "    </tr>\n",
       "    <tr>\n",
       "      <th>74676</th>\n",
       "      <td>Positive</td>\n",
       "      <td>Just realized that the Windows partition of my...</td>\n",
       "      <td>realized windows partition mac like years behi...</td>\n",
       "    </tr>\n",
       "    <tr>\n",
       "      <th>74677</th>\n",
       "      <td>Positive</td>\n",
       "      <td>Just realized that my Mac window partition is ...</td>\n",
       "      <td>realized mac window partition years behind nvi...</td>\n",
       "    </tr>\n",
       "    <tr>\n",
       "      <th>74678</th>\n",
       "      <td>Positive</td>\n",
       "      <td>Just realized the windows partition of my Mac ...</td>\n",
       "      <td>realized windows partition mac years behind nv...</td>\n",
       "    </tr>\n",
       "    <tr>\n",
       "      <th>74679</th>\n",
       "      <td>Positive</td>\n",
       "      <td>Just realized between the windows partition of...</td>\n",
       "      <td>realized windows partition mac like years behi...</td>\n",
       "    </tr>\n",
       "    <tr>\n",
       "      <th>74680</th>\n",
       "      <td>Positive</td>\n",
       "      <td>Just like the windows partition of my Mac is l...</td>\n",
       "      <td>like windows partition mac like years behind d...</td>\n",
       "    </tr>\n",
       "  </tbody>\n",
       "</table>\n",
       "<p>20831 rows × 3 columns</p>\n",
       "</div>"
      ],
      "text/plain": [
       "       Positive im getting on borderlands and i will murder you all ,  \\\n",
       "0      Positive  I am coming to the borders and I will kill you...      \n",
       "1      Positive  im getting on borderlands and i will kill you ...      \n",
       "2      Positive  im coming on borderlands and i will murder you...      \n",
       "3      Positive  im getting on borderlands 2 and i will murder ...      \n",
       "4      Positive  im getting into borderlands and i can murder y...      \n",
       "...         ...                                                ...      \n",
       "74676  Positive  Just realized that the Windows partition of my...      \n",
       "74677  Positive  Just realized that my Mac window partition is ...      \n",
       "74678  Positive  Just realized the windows partition of my Mac ...      \n",
       "74679  Positive  Just realized between the windows partition of...      \n",
       "74680  Positive  Just like the windows partition of my Mac is l...      \n",
       "\n",
       "                                                    Text  \n",
       "0                                    coming borders kill  \n",
       "1                            im getting borderlands kill  \n",
       "2                           im coming borderlands murder  \n",
       "3                          im getting borderlands murder  \n",
       "4                          im getting borderlands murder  \n",
       "...                                                  ...  \n",
       "74676  realized windows partition mac like years behi...  \n",
       "74677  realized mac window partition years behind nvi...  \n",
       "74678  realized windows partition mac years behind nv...  \n",
       "74679  realized windows partition mac like years behi...  \n",
       "74680  like windows partition mac like years behind d...  \n",
       "\n",
       "[20831 rows x 3 columns]"
      ]
     },
     "execution_count": 9,
     "metadata": {},
     "output_type": "execute_result"
    }
   ],
   "source": [
    "df_train_POS"
   ]
  },
  {
   "cell_type": "code",
   "execution_count": 10,
   "id": "ff29f7c6",
   "metadata": {
    "execution": {
     "iopub.execute_input": "2024-02-18T19:59:14.076467Z",
     "iopub.status.busy": "2024-02-18T19:59:14.076189Z",
     "iopub.status.idle": "2024-02-18T19:59:14.086862Z",
     "shell.execute_reply": "2024-02-18T19:59:14.086034Z"
    },
    "papermill": {
     "duration": 0.029937,
     "end_time": "2024-02-18T19:59:14.088675",
     "exception": false,
     "start_time": "2024-02-18T19:59:14.058738",
     "status": "completed"
    },
    "tags": []
   },
   "outputs": [
    {
     "data": {
      "text/html": [
       "<div>\n",
       "<style scoped>\n",
       "    .dataframe tbody tr th:only-of-type {\n",
       "        vertical-align: middle;\n",
       "    }\n",
       "\n",
       "    .dataframe tbody tr th {\n",
       "        vertical-align: top;\n",
       "    }\n",
       "\n",
       "    .dataframe thead th {\n",
       "        text-align: right;\n",
       "    }\n",
       "</style>\n",
       "<table border=\"1\" class=\"dataframe\">\n",
       "  <thead>\n",
       "    <tr style=\"text-align: right;\">\n",
       "      <th></th>\n",
       "      <th>Positive</th>\n",
       "      <th>im getting on borderlands and i will murder you all ,</th>\n",
       "      <th>Text</th>\n",
       "    </tr>\n",
       "  </thead>\n",
       "  <tbody>\n",
       "    <tr>\n",
       "      <th>23</th>\n",
       "      <td>Negative</td>\n",
       "      <td>the biggest dissappoinment in my life came out...</td>\n",
       "      <td>biggest dissappoinment life came year ago fuck...</td>\n",
       "    </tr>\n",
       "    <tr>\n",
       "      <th>24</th>\n",
       "      <td>Negative</td>\n",
       "      <td>The biggest disappointment of my life came a y...</td>\n",
       "      <td>biggest disappointment life came year ago</td>\n",
       "    </tr>\n",
       "    <tr>\n",
       "      <th>25</th>\n",
       "      <td>Negative</td>\n",
       "      <td>The biggest disappointment of my life came a y...</td>\n",
       "      <td>biggest disappointment life came year ago</td>\n",
       "    </tr>\n",
       "    <tr>\n",
       "      <th>26</th>\n",
       "      <td>Negative</td>\n",
       "      <td>the biggest dissappoinment in my life coming o...</td>\n",
       "      <td>biggest dissappoinment life coming year ago fu...</td>\n",
       "    </tr>\n",
       "    <tr>\n",
       "      <th>27</th>\n",
       "      <td>Negative</td>\n",
       "      <td>For the biggest male dissappoinment in my life...</td>\n",
       "      <td>biggest male dissappoinment life came hanging ...</td>\n",
       "    </tr>\n",
       "    <tr>\n",
       "      <th>...</th>\n",
       "      <td>...</td>\n",
       "      <td>...</td>\n",
       "      <td>...</td>\n",
       "    </tr>\n",
       "    <tr>\n",
       "      <th>74664</th>\n",
       "      <td>Negative</td>\n",
       "      <td>Nvidia really delayed the 3070 by 2 weeks.</td>\n",
       "      <td>nvidia really delayed weeks</td>\n",
       "    </tr>\n",
       "    <tr>\n",
       "      <th>74665</th>\n",
       "      <td>Negative</td>\n",
       "      <td>Nvidia did delay by 3070 2 weeks.</td>\n",
       "      <td>nvidia delay weeks</td>\n",
       "    </tr>\n",
       "    <tr>\n",
       "      <th>74666</th>\n",
       "      <td>Negative</td>\n",
       "      <td>Nvidia really delayed the 3070 several weeks.</td>\n",
       "      <td>nvidia really delayed several weeks</td>\n",
       "    </tr>\n",
       "    <tr>\n",
       "      <th>74667</th>\n",
       "      <td>Negative</td>\n",
       "      <td>Nvidia really only delayed the 3070 2 flight w...</td>\n",
       "      <td>nvidia really delayed flight weeks</td>\n",
       "    </tr>\n",
       "    <tr>\n",
       "      <th>74668</th>\n",
       "      <td>Negative</td>\n",
       "      <td>Nvidia really delayed the next 2 weeks.</td>\n",
       "      <td>nvidia really delayed next weeks</td>\n",
       "    </tr>\n",
       "  </tbody>\n",
       "</table>\n",
       "<p>22542 rows × 3 columns</p>\n",
       "</div>"
      ],
      "text/plain": [
       "       Positive im getting on borderlands and i will murder you all ,  \\\n",
       "23     Negative  the biggest dissappoinment in my life came out...      \n",
       "24     Negative  The biggest disappointment of my life came a y...      \n",
       "25     Negative  The biggest disappointment of my life came a y...      \n",
       "26     Negative  the biggest dissappoinment in my life coming o...      \n",
       "27     Negative  For the biggest male dissappoinment in my life...      \n",
       "...         ...                                                ...      \n",
       "74664  Negative         Nvidia really delayed the 3070 by 2 weeks.      \n",
       "74665  Negative                  Nvidia did delay by 3070 2 weeks.      \n",
       "74666  Negative      Nvidia really delayed the 3070 several weeks.      \n",
       "74667  Negative  Nvidia really only delayed the 3070 2 flight w...      \n",
       "74668  Negative            Nvidia really delayed the next 2 weeks.      \n",
       "\n",
       "                                                    Text  \n",
       "23     biggest dissappoinment life came year ago fuck...  \n",
       "24             biggest disappointment life came year ago  \n",
       "25             biggest disappointment life came year ago  \n",
       "26     biggest dissappoinment life coming year ago fu...  \n",
       "27     biggest male dissappoinment life came hanging ...  \n",
       "...                                                  ...  \n",
       "74664                        nvidia really delayed weeks  \n",
       "74665                                 nvidia delay weeks  \n",
       "74666                nvidia really delayed several weeks  \n",
       "74667                 nvidia really delayed flight weeks  \n",
       "74668                   nvidia really delayed next weeks  \n",
       "\n",
       "[22542 rows x 3 columns]"
      ]
     },
     "execution_count": 10,
     "metadata": {},
     "output_type": "execute_result"
    }
   ],
   "source": [
    "df_train_NEG"
   ]
  },
  {
   "cell_type": "code",
   "execution_count": 11,
   "id": "4c4931d5",
   "metadata": {
    "execution": {
     "iopub.execute_input": "2024-02-18T19:59:14.123555Z",
     "iopub.status.busy": "2024-02-18T19:59:14.123292Z",
     "iopub.status.idle": "2024-02-18T19:59:14.133242Z",
     "shell.execute_reply": "2024-02-18T19:59:14.132411Z"
    },
    "papermill": {
     "duration": 0.029511,
     "end_time": "2024-02-18T19:59:14.135063",
     "exception": false,
     "start_time": "2024-02-18T19:59:14.105552",
     "status": "completed"
    },
    "tags": []
   },
   "outputs": [
    {
     "data": {
      "text/html": [
       "<div>\n",
       "<style scoped>\n",
       "    .dataframe tbody tr th:only-of-type {\n",
       "        vertical-align: middle;\n",
       "    }\n",
       "\n",
       "    .dataframe tbody tr th {\n",
       "        vertical-align: top;\n",
       "    }\n",
       "\n",
       "    .dataframe thead th {\n",
       "        text-align: right;\n",
       "    }\n",
       "</style>\n",
       "<table border=\"1\" class=\"dataframe\">\n",
       "  <thead>\n",
       "    <tr style=\"text-align: right;\">\n",
       "      <th></th>\n",
       "      <th>Positive</th>\n",
       "      <th>im getting on borderlands and i will murder you all ,</th>\n",
       "      <th>Text</th>\n",
       "    </tr>\n",
       "  </thead>\n",
       "  <tbody>\n",
       "    <tr>\n",
       "      <th>11</th>\n",
       "      <td>Neutral</td>\n",
       "      <td>Rock-Hard La Varlope, RARE &amp; POWERFUL, HANDSOM...</td>\n",
       "      <td>rockhard la varlope rare powerful handsome jac...</td>\n",
       "    </tr>\n",
       "    <tr>\n",
       "      <th>12</th>\n",
       "      <td>Neutral</td>\n",
       "      <td>Rock-Hard La Varlope, RARE &amp; POWERFUL, HANDSOM...</td>\n",
       "      <td>rockhard la varlope rare powerful handsome jac...</td>\n",
       "    </tr>\n",
       "    <tr>\n",
       "      <th>13</th>\n",
       "      <td>Neutral</td>\n",
       "      <td>Rock-Hard La Varlope, RARE &amp; POWERFUL, HANDSOM...</td>\n",
       "      <td>rockhard la varlope rare powerful handsome jac...</td>\n",
       "    </tr>\n",
       "    <tr>\n",
       "      <th>14</th>\n",
       "      <td>Neutral</td>\n",
       "      <td>Rock-Hard La Vita, RARE BUT POWERFUL, HANDSOME...</td>\n",
       "      <td>rockhard la vita rare powerful handsome jackpo...</td>\n",
       "    </tr>\n",
       "    <tr>\n",
       "      <th>15</th>\n",
       "      <td>Neutral</td>\n",
       "      <td>Live Rock - Hard music La la Varlope, RARE &amp; t...</td>\n",
       "      <td>live rock hard music la la varlope rare powerf...</td>\n",
       "    </tr>\n",
       "    <tr>\n",
       "      <th>...</th>\n",
       "      <td>...</td>\n",
       "      <td>...</td>\n",
       "      <td>...</td>\n",
       "    </tr>\n",
       "    <tr>\n",
       "      <th>74658</th>\n",
       "      <td>Neutral</td>\n",
       "      <td>Nvidia plans to release its 2017 \"Crypto Craze...</td>\n",
       "      <td>nvidia plans release crypto craze documentary ...</td>\n",
       "    </tr>\n",
       "    <tr>\n",
       "      <th>74659</th>\n",
       "      <td>Neutral</td>\n",
       "      <td>Nvidia does not want to give up its \"cryptoins...</td>\n",
       "      <td>nvidia want give cryptoinsanity doxmaxbitcc nv...</td>\n",
       "    </tr>\n",
       "    <tr>\n",
       "      <th>74660</th>\n",
       "      <td>Neutral</td>\n",
       "      <td>Nvidia doesn’t intend to give away its 2017 ad...</td>\n",
       "      <td>nvidia doesnt intend give away ad craze docs m...</td>\n",
       "    </tr>\n",
       "    <tr>\n",
       "      <th>74661</th>\n",
       "      <td>Neutral</td>\n",
       "      <td>Nvidia therefore doesn ’ t want to give up its...</td>\n",
       "      <td>nvidia therefore want give crypto craze docs m...</td>\n",
       "    </tr>\n",
       "    <tr>\n",
       "      <th>74662</th>\n",
       "      <td>Neutral</td>\n",
       "      <td>is doesn’t should I give up its password ‘cryp...</td>\n",
       "      <td>doesnt give password crypto wallet docs maxbit...</td>\n",
       "    </tr>\n",
       "  </tbody>\n",
       "</table>\n",
       "<p>18318 rows × 3 columns</p>\n",
       "</div>"
      ],
      "text/plain": [
       "      Positive im getting on borderlands and i will murder you all ,  \\\n",
       "11     Neutral  Rock-Hard La Varlope, RARE & POWERFUL, HANDSOM...      \n",
       "12     Neutral  Rock-Hard La Varlope, RARE & POWERFUL, HANDSOM...      \n",
       "13     Neutral  Rock-Hard La Varlope, RARE & POWERFUL, HANDSOM...      \n",
       "14     Neutral  Rock-Hard La Vita, RARE BUT POWERFUL, HANDSOME...      \n",
       "15     Neutral  Live Rock - Hard music La la Varlope, RARE & t...      \n",
       "...        ...                                                ...      \n",
       "74658  Neutral  Nvidia plans to release its 2017 \"Crypto Craze...      \n",
       "74659  Neutral  Nvidia does not want to give up its \"cryptoins...      \n",
       "74660  Neutral  Nvidia doesn’t intend to give away its 2017 ad...      \n",
       "74661  Neutral  Nvidia therefore doesn ’ t want to give up its...      \n",
       "74662  Neutral  is doesn’t should I give up its password ‘cryp...      \n",
       "\n",
       "                                                    Text  \n",
       "11     rockhard la varlope rare powerful handsome jac...  \n",
       "12     rockhard la varlope rare powerful handsome jac...  \n",
       "13     rockhard la varlope rare powerful handsome jac...  \n",
       "14     rockhard la vita rare powerful handsome jackpo...  \n",
       "15     live rock hard music la la varlope rare powerf...  \n",
       "...                                                  ...  \n",
       "74658  nvidia plans release crypto craze documentary ...  \n",
       "74659  nvidia want give cryptoinsanity doxmaxbitcc nv...  \n",
       "74660  nvidia doesnt intend give away ad craze docs m...  \n",
       "74661  nvidia therefore want give crypto craze docs m...  \n",
       "74662  doesnt give password crypto wallet docs maxbit...  \n",
       "\n",
       "[18318 rows x 3 columns]"
      ]
     },
     "execution_count": 11,
     "metadata": {},
     "output_type": "execute_result"
    }
   ],
   "source": [
    "df_train_NEU"
   ]
  },
  {
   "cell_type": "code",
   "execution_count": 12,
   "id": "c1f3eabb",
   "metadata": {
    "execution": {
     "iopub.execute_input": "2024-02-18T19:59:14.172686Z",
     "iopub.status.busy": "2024-02-18T19:59:14.172356Z",
     "iopub.status.idle": "2024-02-18T19:59:14.181669Z",
     "shell.execute_reply": "2024-02-18T19:59:14.180689Z"
    },
    "papermill": {
     "duration": 0.031445,
     "end_time": "2024-02-18T19:59:14.183638",
     "exception": false,
     "start_time": "2024-02-18T19:59:14.152193",
     "status": "completed"
    },
    "tags": []
   },
   "outputs": [],
   "source": [
    "df_train_POS = df_train_POS.sample(1000)\n",
    "df_train_NEG = df_train_NEG.sample(1000)\n",
    "df_train_NEU = df_train_NEU.sample(2000)"
   ]
  },
  {
   "cell_type": "code",
   "execution_count": 13,
   "id": "04e52d4d",
   "metadata": {
    "execution": {
     "iopub.execute_input": "2024-02-18T19:59:14.218858Z",
     "iopub.status.busy": "2024-02-18T19:59:14.218606Z",
     "iopub.status.idle": "2024-02-18T19:59:14.228983Z",
     "shell.execute_reply": "2024-02-18T19:59:14.228171Z"
    },
    "papermill": {
     "duration": 0.0303,
     "end_time": "2024-02-18T19:59:14.231081",
     "exception": false,
     "start_time": "2024-02-18T19:59:14.200781",
     "status": "completed"
    },
    "tags": []
   },
   "outputs": [
    {
     "data": {
      "text/html": [
       "<div>\n",
       "<style scoped>\n",
       "    .dataframe tbody tr th:only-of-type {\n",
       "        vertical-align: middle;\n",
       "    }\n",
       "\n",
       "    .dataframe tbody tr th {\n",
       "        vertical-align: top;\n",
       "    }\n",
       "\n",
       "    .dataframe thead th {\n",
       "        text-align: right;\n",
       "    }\n",
       "</style>\n",
       "<table border=\"1\" class=\"dataframe\">\n",
       "  <thead>\n",
       "    <tr style=\"text-align: right;\">\n",
       "      <th></th>\n",
       "      <th>Positive</th>\n",
       "      <th>im getting on borderlands and i will murder you all ,</th>\n",
       "      <th>Text</th>\n",
       "    </tr>\n",
       "  </thead>\n",
       "  <tbody>\n",
       "    <tr>\n",
       "      <th>52521</th>\n",
       "      <td>Positive</td>\n",
       "      <td>Red Dead Redemption 2 II is one of the 13 best...</td>\n",
       "      <td>red dead redemption ii one best damn games ive...</td>\n",
       "    </tr>\n",
       "    <tr>\n",
       "      <th>9460</th>\n",
       "      <td>Positive</td>\n",
       "      <td>i want gold.</td>\n",
       "      <td>want gold</td>\n",
       "    </tr>\n",
       "    <tr>\n",
       "      <th>902</th>\n",
       "      <td>Positive</td>\n",
       "      <td>Atleast I have Borderlands to match me up :(</td>\n",
       "      <td>atleast borderlands match</td>\n",
       "    </tr>\n",
       "    <tr>\n",
       "      <th>51833</th>\n",
       "      <td>Positive</td>\n",
       "      <td>this is a excellent time to actually go try &amp; ...</td>\n",
       "      <td>excellent time actually go try finish red dead...</td>\n",
       "    </tr>\n",
       "    <tr>\n",
       "      <th>55758</th>\n",
       "      <td>Positive</td>\n",
       "      <td>Call of Duty: WARZONE is definitely on the top...</td>\n",
       "      <td>call duty warzone definitely top list fps game...</td>\n",
       "    </tr>\n",
       "    <tr>\n",
       "      <th>...</th>\n",
       "      <td>...</td>\n",
       "      <td>...</td>\n",
       "      <td>...</td>\n",
       "    </tr>\n",
       "    <tr>\n",
       "      <th>21739</th>\n",
       "      <td>Positive</td>\n",
       "      <td>It's going to be a beautiful game! Are you rea...</td>\n",
       "      <td>going beautiful game ready hard _ legion</td>\n",
       "    </tr>\n",
       "    <tr>\n",
       "      <th>40369</th>\n",
       "      <td>Positive</td>\n",
       "      <td>almost done YES, tomorrow we can finish our go...</td>\n",
       "      <td>almost done yes tomorrow finish goal finally k...</td>\n",
       "    </tr>\n",
       "    <tr>\n",
       "      <th>38900</th>\n",
       "      <td>Positive</td>\n",
       "      <td>Good stream tonight. Jumped back into Arena af...</td>\n",
       "      <td>good stream tonight jumped back arena couple b...</td>\n",
       "    </tr>\n",
       "    <tr>\n",
       "      <th>47358</th>\n",
       "      <td>Positive</td>\n",
       "      <td>\"I recommend the product to anyone with minima...</td>\n",
       "      <td>recommend product anyone minimal skills instal...</td>\n",
       "    </tr>\n",
       "    <tr>\n",
       "      <th>23551</th>\n",
       "      <td>Positive</td>\n",
       "      <td>Our team has joined... \"Everyone should benefi...</td>\n",
       "      <td>team joined everyone benefit advances technolo...</td>\n",
       "    </tr>\n",
       "  </tbody>\n",
       "</table>\n",
       "<p>1000 rows × 3 columns</p>\n",
       "</div>"
      ],
      "text/plain": [
       "       Positive im getting on borderlands and i will murder you all ,  \\\n",
       "52521  Positive  Red Dead Redemption 2 II is one of the 13 best...      \n",
       "9460   Positive                                       i want gold.      \n",
       "902    Positive       Atleast I have Borderlands to match me up :(      \n",
       "51833  Positive  this is a excellent time to actually go try & ...      \n",
       "55758  Positive  Call of Duty: WARZONE is definitely on the top...      \n",
       "...         ...                                                ...      \n",
       "21739  Positive  It's going to be a beautiful game! Are you rea...      \n",
       "40369  Positive  almost done YES, tomorrow we can finish our go...      \n",
       "38900  Positive  Good stream tonight. Jumped back into Arena af...      \n",
       "47358  Positive  \"I recommend the product to anyone with minima...      \n",
       "23551  Positive  Our team has joined... \"Everyone should benefi...      \n",
       "\n",
       "                                                    Text  \n",
       "52521  red dead redemption ii one best damn games ive...  \n",
       "9460                                           want gold  \n",
       "902                            atleast borderlands match  \n",
       "51833  excellent time actually go try finish red dead...  \n",
       "55758  call duty warzone definitely top list fps game...  \n",
       "...                                                  ...  \n",
       "21739           going beautiful game ready hard _ legion  \n",
       "40369  almost done yes tomorrow finish goal finally k...  \n",
       "38900  good stream tonight jumped back arena couple b...  \n",
       "47358  recommend product anyone minimal skills instal...  \n",
       "23551  team joined everyone benefit advances technolo...  \n",
       "\n",
       "[1000 rows x 3 columns]"
      ]
     },
     "execution_count": 13,
     "metadata": {},
     "output_type": "execute_result"
    }
   ],
   "source": [
    "df_train_POS"
   ]
  },
  {
   "cell_type": "code",
   "execution_count": 14,
   "id": "8071d92c",
   "metadata": {
    "execution": {
     "iopub.execute_input": "2024-02-18T19:59:14.269768Z",
     "iopub.status.busy": "2024-02-18T19:59:14.269116Z",
     "iopub.status.idle": "2024-02-18T19:59:14.279582Z",
     "shell.execute_reply": "2024-02-18T19:59:14.278658Z"
    },
    "papermill": {
     "duration": 0.030597,
     "end_time": "2024-02-18T19:59:14.281541",
     "exception": false,
     "start_time": "2024-02-18T19:59:14.250944",
     "status": "completed"
    },
    "tags": []
   },
   "outputs": [
    {
     "data": {
      "text/html": [
       "<div>\n",
       "<style scoped>\n",
       "    .dataframe tbody tr th:only-of-type {\n",
       "        vertical-align: middle;\n",
       "    }\n",
       "\n",
       "    .dataframe tbody tr th {\n",
       "        vertical-align: top;\n",
       "    }\n",
       "\n",
       "    .dataframe thead th {\n",
       "        text-align: right;\n",
       "    }\n",
       "</style>\n",
       "<table border=\"1\" class=\"dataframe\">\n",
       "  <thead>\n",
       "    <tr style=\"text-align: right;\">\n",
       "      <th></th>\n",
       "      <th>Positive</th>\n",
       "      <th>im getting on borderlands and i will murder you all ,</th>\n",
       "      <th>Text</th>\n",
       "    </tr>\n",
       "  </thead>\n",
       "  <tbody>\n",
       "    <tr>\n",
       "      <th>44354</th>\n",
       "      <td>Negative</td>\n",
       "      <td>Thanks RhandlerR , we’re all stuck at home wit...</td>\n",
       "      <td>thanks rhandlerr stuck home wifi instead helpi...</td>\n",
       "    </tr>\n",
       "    <tr>\n",
       "      <th>46516</th>\n",
       "      <td>Negative</td>\n",
       "      <td>Hey @verizonfios @verizon because Why not my i...</td>\n",
       "      <td>hey verizonfios verizon internet speed andmbps...</td>\n",
       "    </tr>\n",
       "    <tr>\n",
       "      <th>49079</th>\n",
       "      <td>Negative</td>\n",
       "      <td>This stupid nacho is playing like FIFA players</td>\n",
       "      <td>stupid nacho playing like fifa players</td>\n",
       "    </tr>\n",
       "    <tr>\n",
       "      <th>54530</th>\n",
       "      <td>Negative</td>\n",
       "      <td>@Treyarch Call of Duty Black Ops 3 is the wors...</td>\n",
       "      <td>treyarch call duty black ops worst fighting ga...</td>\n",
       "    </tr>\n",
       "    <tr>\n",
       "      <th>54341</th>\n",
       "      <td>Negative</td>\n",
       "      <td>Garbage ass @CallofDuty servers lagged me out ...</td>\n",
       "      <td>garbage ass callofduty servers lagged kills so...</td>\n",
       "    </tr>\n",
       "    <tr>\n",
       "      <th>...</th>\n",
       "      <td>...</td>\n",
       "      <td>...</td>\n",
       "      <td>...</td>\n",
       "    </tr>\n",
       "    <tr>\n",
       "      <th>72211</th>\n",
       "      <td>Negative</td>\n",
       "      <td>@ GhostRecon the problem I discovered has some...</td>\n",
       "      <td>ghostrecon problem discovered something erejon...</td>\n",
       "    </tr>\n",
       "    <tr>\n",
       "      <th>12345</th>\n",
       "      <td>Negative</td>\n",
       "      <td>@2K 2k20 worst game is ever scored missed 20 l...</td>\n",
       "      <td>k k worst game ever scored missed layups misse...</td>\n",
       "    </tr>\n",
       "    <tr>\n",
       "      <th>22028</th>\n",
       "      <td>Negative</td>\n",
       "      <td>Filthy on multiple levels</td>\n",
       "      <td>filthy multiple levels</td>\n",
       "    </tr>\n",
       "    <tr>\n",
       "      <th>35270</th>\n",
       "      <td>Negative</td>\n",
       "      <td>Am I completely missing something, or should A...</td>\n",
       "      <td>completely missing something apple news mac vi...</td>\n",
       "    </tr>\n",
       "    <tr>\n",
       "      <th>50997</th>\n",
       "      <td>Negative</td>\n",
       "      <td>&amp; fuck the fifa 20 too!! 1 Stupid ass game.</td>\n",
       "      <td>fuck fifa stupid ass game</td>\n",
       "    </tr>\n",
       "  </tbody>\n",
       "</table>\n",
       "<p>1000 rows × 3 columns</p>\n",
       "</div>"
      ],
      "text/plain": [
       "       Positive im getting on borderlands and i will murder you all ,  \\\n",
       "44354  Negative  Thanks RhandlerR , we’re all stuck at home wit...      \n",
       "46516  Negative  Hey @verizonfios @verizon because Why not my i...      \n",
       "49079  Negative     This stupid nacho is playing like FIFA players      \n",
       "54530  Negative  @Treyarch Call of Duty Black Ops 3 is the wors...      \n",
       "54341  Negative  Garbage ass @CallofDuty servers lagged me out ...      \n",
       "...         ...                                                ...      \n",
       "72211  Negative  @ GhostRecon the problem I discovered has some...      \n",
       "12345  Negative  @2K 2k20 worst game is ever scored missed 20 l...      \n",
       "22028  Negative                          Filthy on multiple levels      \n",
       "35270  Negative  Am I completely missing something, or should A...      \n",
       "50997  Negative        & fuck the fifa 20 too!! 1 Stupid ass game.      \n",
       "\n",
       "                                                    Text  \n",
       "44354  thanks rhandlerr stuck home wifi instead helpi...  \n",
       "46516  hey verizonfios verizon internet speed andmbps...  \n",
       "49079             stupid nacho playing like fifa players  \n",
       "54530  treyarch call duty black ops worst fighting ga...  \n",
       "54341  garbage ass callofduty servers lagged kills so...  \n",
       "...                                                  ...  \n",
       "72211  ghostrecon problem discovered something erejon...  \n",
       "12345  k k worst game ever scored missed layups misse...  \n",
       "22028                             filthy multiple levels  \n",
       "35270  completely missing something apple news mac vi...  \n",
       "50997                          fuck fifa stupid ass game  \n",
       "\n",
       "[1000 rows x 3 columns]"
      ]
     },
     "execution_count": 14,
     "metadata": {},
     "output_type": "execute_result"
    }
   ],
   "source": [
    "df_train_NEG"
   ]
  },
  {
   "cell_type": "code",
   "execution_count": 15,
   "id": "58877edc",
   "metadata": {
    "execution": {
     "iopub.execute_input": "2024-02-18T19:59:14.321250Z",
     "iopub.status.busy": "2024-02-18T19:59:14.320992Z",
     "iopub.status.idle": "2024-02-18T19:59:14.334005Z",
     "shell.execute_reply": "2024-02-18T19:59:14.333114Z"
    },
    "papermill": {
     "duration": 0.039062,
     "end_time": "2024-02-18T19:59:14.338702",
     "exception": false,
     "start_time": "2024-02-18T19:59:14.299640",
     "status": "completed"
    },
    "tags": []
   },
   "outputs": [
    {
     "data": {
      "text/html": [
       "<div>\n",
       "<style scoped>\n",
       "    .dataframe tbody tr th:only-of-type {\n",
       "        vertical-align: middle;\n",
       "    }\n",
       "\n",
       "    .dataframe tbody tr th {\n",
       "        vertical-align: top;\n",
       "    }\n",
       "\n",
       "    .dataframe thead th {\n",
       "        text-align: right;\n",
       "    }\n",
       "</style>\n",
       "<table border=\"1\" class=\"dataframe\">\n",
       "  <thead>\n",
       "    <tr style=\"text-align: right;\">\n",
       "      <th></th>\n",
       "      <th>Positive</th>\n",
       "      <th>im getting on borderlands and i will murder you all ,</th>\n",
       "      <th>Text</th>\n",
       "    </tr>\n",
       "  </thead>\n",
       "  <tbody>\n",
       "    <tr>\n",
       "      <th>1477</th>\n",
       "      <td>Neutral</td>\n",
       "      <td>A full moon turned around? Guy with a revolver...</td>\n",
       "      <td>full moon turned around guy revolver guy whist...</td>\n",
       "    </tr>\n",
       "    <tr>\n",
       "      <th>72539</th>\n",
       "      <td>Neutral</td>\n",
       "      <td>Nvidia makes Shield TV’s impressive 4K upscali...</td>\n",
       "      <td>nvidia makes shield tvs impressive k upscaling...</td>\n",
       "    </tr>\n",
       "    <tr>\n",
       "      <th>45252</th>\n",
       "      <td>Neutral</td>\n",
       "      <td>You just sealed your fate with this historical...</td>\n",
       "      <td>sealed fate historically stupid move verizon t...</td>\n",
       "    </tr>\n",
       "    <tr>\n",
       "      <th>74377</th>\n",
       "      <td>Neutral</td>\n",
       "      <td>Don't miss these exciting</td>\n",
       "      <td>dont miss exciting</td>\n",
       "    </tr>\n",
       "    <tr>\n",
       "      <th>65436</th>\n",
       "      <td>Neutral</td>\n",
       "      <td>Johnson &amp; Johnson halted its</td>\n",
       "      <td>johnson johnson halted</td>\n",
       "    </tr>\n",
       "    <tr>\n",
       "      <th>...</th>\n",
       "      <td>...</td>\n",
       "      <td>...</td>\n",
       "      <td>...</td>\n",
       "    </tr>\n",
       "    <tr>\n",
       "      <th>52972</th>\n",
       "      <td>Neutral</td>\n",
       "      <td>reason Rockstar won’t release Captain Dead IV ...</td>\n",
       "      <td>reason rockstar wont release captain dead iv z...</td>\n",
       "    </tr>\n",
       "    <tr>\n",
       "      <th>47635</th>\n",
       "      <td>Neutral</td>\n",
       "      <td>Home Depot saw this massive turtle cutter pic....</td>\n",
       "      <td>home depot saw massive turtle cutter picfr fngqdn</td>\n",
       "    </tr>\n",
       "    <tr>\n",
       "      <th>41905</th>\n",
       "      <td>Neutral</td>\n",
       "      <td>Russian bots exacerbate Battlefield 1</td>\n",
       "      <td>russian bots exacerbate battlefield</td>\n",
       "    </tr>\n",
       "    <tr>\n",
       "      <th>45610</th>\n",
       "      <td>Neutral</td>\n",
       "      <td>IN OUTAGE: Verizon, W-Mobile, Sprint Discover ...</td>\n",
       "      <td>outage verizon wmobile sprint discover att fol...</td>\n",
       "    </tr>\n",
       "    <tr>\n",
       "      <th>2435</th>\n",
       "      <td>Neutral</td>\n",
       "      <td>. . comicbook.com/gaming/news/ca… https://t.c...</td>\n",
       "      <td>comicbookcomgamingnewsca httpstcovncmrzv</td>\n",
       "    </tr>\n",
       "  </tbody>\n",
       "</table>\n",
       "<p>2000 rows × 3 columns</p>\n",
       "</div>"
      ],
      "text/plain": [
       "      Positive im getting on borderlands and i will murder you all ,  \\\n",
       "1477   Neutral  A full moon turned around? Guy with a revolver...      \n",
       "72539  Neutral  Nvidia makes Shield TV’s impressive 4K upscali...      \n",
       "45252  Neutral  You just sealed your fate with this historical...      \n",
       "74377  Neutral                          Don't miss these exciting      \n",
       "65436  Neutral                       Johnson & Johnson halted its      \n",
       "...        ...                                                ...      \n",
       "52972  Neutral  reason Rockstar won’t release Captain Dead IV ...      \n",
       "47635  Neutral  Home Depot saw this massive turtle cutter pic....      \n",
       "41905  Neutral              Russian bots exacerbate Battlefield 1      \n",
       "45610  Neutral  IN OUTAGE: Verizon, W-Mobile, Sprint Discover ...      \n",
       "2435   Neutral   . . comicbook.com/gaming/news/ca… https://t.c...      \n",
       "\n",
       "                                                    Text  \n",
       "1477   full moon turned around guy revolver guy whist...  \n",
       "72539  nvidia makes shield tvs impressive k upscaling...  \n",
       "45252  sealed fate historically stupid move verizon t...  \n",
       "74377                                 dont miss exciting  \n",
       "65436                             johnson johnson halted  \n",
       "...                                                  ...  \n",
       "52972  reason rockstar wont release captain dead iv z...  \n",
       "47635  home depot saw massive turtle cutter picfr fngqdn  \n",
       "41905                russian bots exacerbate battlefield  \n",
       "45610  outage verizon wmobile sprint discover att fol...  \n",
       "2435            comicbookcomgamingnewsca httpstcovncmrzv  \n",
       "\n",
       "[2000 rows x 3 columns]"
      ]
     },
     "execution_count": 15,
     "metadata": {},
     "output_type": "execute_result"
    }
   ],
   "source": [
    "df_train_NEU"
   ]
  },
  {
   "cell_type": "code",
   "execution_count": 16,
   "id": "1a7bd034",
   "metadata": {
    "execution": {
     "iopub.execute_input": "2024-02-18T19:59:14.382731Z",
     "iopub.status.busy": "2024-02-18T19:59:14.382461Z",
     "iopub.status.idle": "2024-02-18T19:59:14.388023Z",
     "shell.execute_reply": "2024-02-18T19:59:14.387209Z"
    },
    "papermill": {
     "duration": 0.027299,
     "end_time": "2024-02-18T19:59:14.389806",
     "exception": false,
     "start_time": "2024-02-18T19:59:14.362507",
     "status": "completed"
    },
    "tags": []
   },
   "outputs": [
    {
     "data": {
      "text/plain": [
       "((1000, 3), (1000, 3), (2000, 3))"
      ]
     },
     "execution_count": 16,
     "metadata": {},
     "output_type": "execute_result"
    }
   ],
   "source": [
    "df_train_POS.shape, df_train_NEG.shape, df_train_NEU.shape"
   ]
  },
  {
   "cell_type": "code",
   "execution_count": 17,
   "id": "96eaf233",
   "metadata": {
    "execution": {
     "iopub.execute_input": "2024-02-18T19:59:14.427131Z",
     "iopub.status.busy": "2024-02-18T19:59:14.426869Z",
     "iopub.status.idle": "2024-02-18T19:59:14.430549Z",
     "shell.execute_reply": "2024-02-18T19:59:14.429743Z"
    },
    "papermill": {
     "duration": 0.024456,
     "end_time": "2024-02-18T19:59:14.432440",
     "exception": false,
     "start_time": "2024-02-18T19:59:14.407984",
     "status": "completed"
    },
    "tags": []
   },
   "outputs": [],
   "source": [
    "from sklearn.model_selection import train_test_split"
   ]
  },
  {
   "cell_type": "code",
   "execution_count": 18,
   "id": "56d98603",
   "metadata": {
    "execution": {
     "iopub.execute_input": "2024-02-18T19:59:14.469486Z",
     "iopub.status.busy": "2024-02-18T19:59:14.469225Z",
     "iopub.status.idle": "2024-02-18T19:59:14.474710Z",
     "shell.execute_reply": "2024-02-18T19:59:14.474036Z"
    },
    "papermill": {
     "duration": 0.026197,
     "end_time": "2024-02-18T19:59:14.476622",
     "exception": false,
     "start_time": "2024-02-18T19:59:14.450425",
     "status": "completed"
    },
    "tags": []
   },
   "outputs": [],
   "source": [
    "df_train_NEU_1, df_train_NEU_2 = train_test_split(df_train_NEU, test_size=0.5)"
   ]
  },
  {
   "cell_type": "code",
   "execution_count": 19,
   "id": "939ee0bb",
   "metadata": {
    "execution": {
     "iopub.execute_input": "2024-02-18T19:59:14.513753Z",
     "iopub.status.busy": "2024-02-18T19:59:14.513491Z",
     "iopub.status.idle": "2024-02-18T19:59:14.518729Z",
     "shell.execute_reply": "2024-02-18T19:59:14.517923Z"
    },
    "papermill": {
     "duration": 0.026011,
     "end_time": "2024-02-18T19:59:14.520613",
     "exception": false,
     "start_time": "2024-02-18T19:59:14.494602",
     "status": "completed"
    },
    "tags": []
   },
   "outputs": [
    {
     "data": {
      "text/plain": [
       "((1000, 3), (1000, 3))"
      ]
     },
     "execution_count": 19,
     "metadata": {},
     "output_type": "execute_result"
    }
   ],
   "source": [
    "df_train_NEU_1.shape, df_train_NEU_2.shape"
   ]
  },
  {
   "cell_type": "markdown",
   "id": "3cdf7680",
   "metadata": {
    "papermill": {
     "duration": 0.057967,
     "end_time": "2024-02-18T19:59:14.596802",
     "exception": false,
     "start_time": "2024-02-18T19:59:14.538835",
     "status": "completed"
    },
    "tags": []
   },
   "source": [
    "# Positive"
   ]
  },
  {
   "cell_type": "code",
   "execution_count": 20,
   "id": "d55f4e91",
   "metadata": {
    "execution": {
     "iopub.execute_input": "2024-02-18T19:59:14.635128Z",
     "iopub.status.busy": "2024-02-18T19:59:14.634769Z",
     "iopub.status.idle": "2024-02-18T19:59:14.639536Z",
     "shell.execute_reply": "2024-02-18T19:59:14.638671Z"
    },
    "papermill": {
     "duration": 0.026256,
     "end_time": "2024-02-18T19:59:14.641501",
     "exception": false,
     "start_time": "2024-02-18T19:59:14.615245",
     "status": "completed"
    },
    "tags": []
   },
   "outputs": [],
   "source": [
    "df_train_POS_text = np.array(df_train_POS[\"Text\"])\n",
    "df_train_POS_target = np.array(df_train_POS[\"Positive\"])"
   ]
  },
  {
   "cell_type": "code",
   "execution_count": 21,
   "id": "ee05318d",
   "metadata": {
    "execution": {
     "iopub.execute_input": "2024-02-18T19:59:14.679896Z",
     "iopub.status.busy": "2024-02-18T19:59:14.679178Z",
     "iopub.status.idle": "2024-02-18T19:59:14.684933Z",
     "shell.execute_reply": "2024-02-18T19:59:14.684021Z"
    },
    "papermill": {
     "duration": 0.026946,
     "end_time": "2024-02-18T19:59:14.686907",
     "exception": false,
     "start_time": "2024-02-18T19:59:14.659961",
     "status": "completed"
    },
    "tags": []
   },
   "outputs": [
    {
     "data": {
      "text/plain": [
       "'red dead redemption ii one best damn games ive actually ever played rookie period'"
      ]
     },
     "execution_count": 21,
     "metadata": {},
     "output_type": "execute_result"
    }
   ],
   "source": [
    "df_train_POS_text[0]"
   ]
  },
  {
   "cell_type": "markdown",
   "id": "31c8f4ff",
   "metadata": {
    "papermill": {
     "duration": 0.018123,
     "end_time": "2024-02-18T19:59:14.723643",
     "exception": false,
     "start_time": "2024-02-18T19:59:14.705520",
     "status": "completed"
    },
    "tags": []
   },
   "source": [
    "# Negative"
   ]
  },
  {
   "cell_type": "code",
   "execution_count": 22,
   "id": "34743036",
   "metadata": {
    "execution": {
     "iopub.execute_input": "2024-02-18T19:59:14.761879Z",
     "iopub.status.busy": "2024-02-18T19:59:14.761086Z",
     "iopub.status.idle": "2024-02-18T19:59:14.765912Z",
     "shell.execute_reply": "2024-02-18T19:59:14.765064Z"
    },
    "papermill": {
     "duration": 0.025897,
     "end_time": "2024-02-18T19:59:14.767757",
     "exception": false,
     "start_time": "2024-02-18T19:59:14.741860",
     "status": "completed"
    },
    "tags": []
   },
   "outputs": [],
   "source": [
    "df_train_NEG_text = np.array(df_train_NEG[\"Text\"])\n",
    "df_train_NEG_target = np.array(df_train_NEG[\"Positive\"])"
   ]
  },
  {
   "cell_type": "code",
   "execution_count": 23,
   "id": "c568b942",
   "metadata": {
    "execution": {
     "iopub.execute_input": "2024-02-18T19:59:14.805339Z",
     "iopub.status.busy": "2024-02-18T19:59:14.805069Z",
     "iopub.status.idle": "2024-02-18T19:59:14.810455Z",
     "shell.execute_reply": "2024-02-18T19:59:14.809554Z"
    },
    "papermill": {
     "duration": 0.026263,
     "end_time": "2024-02-18T19:59:14.812341",
     "exception": false,
     "start_time": "2024-02-18T19:59:14.786078",
     "status": "completed"
    },
    "tags": []
   },
   "outputs": [
    {
     "data": {
      "text/plain": [
       "'thanks rhandlerr stuck home wifi instead helping bills two people asinine btw give us additional data dont need pictwittercommxciywyusv'"
      ]
     },
     "execution_count": 23,
     "metadata": {},
     "output_type": "execute_result"
    }
   ],
   "source": [
    "df_train_NEG_text[0]"
   ]
  },
  {
   "cell_type": "markdown",
   "id": "059a64aa",
   "metadata": {
    "papermill": {
     "duration": 0.01817,
     "end_time": "2024-02-18T19:59:14.848902",
     "exception": false,
     "start_time": "2024-02-18T19:59:14.830732",
     "status": "completed"
    },
    "tags": []
   },
   "source": [
    "# Neutral 1 and 2"
   ]
  },
  {
   "cell_type": "code",
   "execution_count": 24,
   "id": "59e31d4b",
   "metadata": {
    "execution": {
     "iopub.execute_input": "2024-02-18T19:59:14.886969Z",
     "iopub.status.busy": "2024-02-18T19:59:14.886704Z",
     "iopub.status.idle": "2024-02-18T19:59:14.891760Z",
     "shell.execute_reply": "2024-02-18T19:59:14.890850Z"
    },
    "papermill": {
     "duration": 0.026109,
     "end_time": "2024-02-18T19:59:14.893573",
     "exception": false,
     "start_time": "2024-02-18T19:59:14.867464",
     "status": "completed"
    },
    "tags": []
   },
   "outputs": [],
   "source": [
    "df_train_NEU_1_text = np.array(df_train_NEU_1[\"Text\"])\n",
    "df_train_NEU_1_target = np.array(df_train_NEU_1[\"Positive\"])\n",
    "df_train_NEU_2_text = np.array(df_train_NEU_2[\"Text\"])\n",
    "df_train_NEU_2_target = np.array(df_train_NEU_2[\"Positive\"])"
   ]
  },
  {
   "cell_type": "code",
   "execution_count": 25,
   "id": "885084b8",
   "metadata": {
    "execution": {
     "iopub.execute_input": "2024-02-18T19:59:14.931734Z",
     "iopub.status.busy": "2024-02-18T19:59:14.931455Z",
     "iopub.status.idle": "2024-02-18T19:59:14.935511Z",
     "shell.execute_reply": "2024-02-18T19:59:14.934640Z"
    },
    "papermill": {
     "duration": 0.025328,
     "end_time": "2024-02-18T19:59:14.937428",
     "exception": false,
     "start_time": "2024-02-18T19:59:14.912100",
     "status": "completed"
    },
    "tags": []
   },
   "outputs": [],
   "source": [
    "df_train_NEU_text = np.concatenate([df_train_NEU_1_text,df_train_NEU_2_text])\n",
    "df_train_NEU_target = np.concatenate([df_train_NEU_1_target,df_train_NEU_2_target])"
   ]
  },
  {
   "cell_type": "code",
   "execution_count": 26,
   "id": "799f625a",
   "metadata": {
    "execution": {
     "iopub.execute_input": "2024-02-18T19:59:14.975924Z",
     "iopub.status.busy": "2024-02-18T19:59:14.975405Z",
     "iopub.status.idle": "2024-02-18T19:59:14.980667Z",
     "shell.execute_reply": "2024-02-18T19:59:14.979790Z"
    },
    "papermill": {
     "duration": 0.026458,
     "end_time": "2024-02-18T19:59:14.982655",
     "exception": false,
     "start_time": "2024-02-18T19:59:14.956197",
     "status": "completed"
    },
    "tags": []
   },
   "outputs": [
    {
     "data": {
      "text/plain": [
       "((2000,),\n",
       " array(['Neutral', 'Neutral', 'Neutral', ..., 'Neutral', 'Neutral',\n",
       "        'Neutral'], dtype=object))"
      ]
     },
     "execution_count": 26,
     "metadata": {},
     "output_type": "execute_result"
    }
   ],
   "source": [
    "df_train_NEU_text.shape, df_train_NEU_target"
   ]
  },
  {
   "cell_type": "code",
   "execution_count": 27,
   "id": "3645b7fd",
   "metadata": {
    "execution": {
     "iopub.execute_input": "2024-02-18T19:59:15.021340Z",
     "iopub.status.busy": "2024-02-18T19:59:15.020710Z",
     "iopub.status.idle": "2024-02-18T19:59:15.026955Z",
     "shell.execute_reply": "2024-02-18T19:59:15.026149Z"
    },
    "papermill": {
     "duration": 0.027516,
     "end_time": "2024-02-18T19:59:15.028832",
     "exception": false,
     "start_time": "2024-02-18T19:59:15.001316",
     "status": "completed"
    },
    "tags": []
   },
   "outputs": [
    {
     "data": {
      "text/plain": [
       "((4000,), (4000,))"
      ]
     },
     "execution_count": 27,
     "metadata": {},
     "output_type": "execute_result"
    }
   ],
   "source": [
    "df_train_text = np.concatenate([df_train_POS_text,df_train_NEG_text, df_train_NEU_text])\n",
    "df_train_target = np.concatenate([df_train_POS_target,df_train_NEG_target, df_train_NEU_target])\n",
    "\n",
    "df_train_text.shape,df_train_target.shape"
   ]
  },
  {
   "cell_type": "code",
   "execution_count": 28,
   "id": "8b506008",
   "metadata": {
    "execution": {
     "iopub.execute_input": "2024-02-18T19:59:15.067982Z",
     "iopub.status.busy": "2024-02-18T19:59:15.067541Z",
     "iopub.status.idle": "2024-02-18T19:59:15.077977Z",
     "shell.execute_reply": "2024-02-18T19:59:15.077201Z"
    },
    "papermill": {
     "duration": 0.032221,
     "end_time": "2024-02-18T19:59:15.079856",
     "exception": false,
     "start_time": "2024-02-18T19:59:15.047635",
     "status": "completed"
    },
    "tags": []
   },
   "outputs": [
    {
     "data": {
      "text/html": [
       "<div>\n",
       "<style scoped>\n",
       "    .dataframe tbody tr th:only-of-type {\n",
       "        vertical-align: middle;\n",
       "    }\n",
       "\n",
       "    .dataframe tbody tr th {\n",
       "        vertical-align: top;\n",
       "    }\n",
       "\n",
       "    .dataframe thead th {\n",
       "        text-align: right;\n",
       "    }\n",
       "</style>\n",
       "<table border=\"1\" class=\"dataframe\">\n",
       "  <thead>\n",
       "    <tr style=\"text-align: right;\">\n",
       "      <th></th>\n",
       "      <th>Positive</th>\n",
       "      <th>im getting on borderlands and i will murder you all ,</th>\n",
       "      <th>Text</th>\n",
       "    </tr>\n",
       "  </thead>\n",
       "  <tbody>\n",
       "    <tr>\n",
       "      <th>0</th>\n",
       "      <td>Positive</td>\n",
       "      <td>I am coming to the borders and I will kill you...</td>\n",
       "      <td>coming borders kill</td>\n",
       "    </tr>\n",
       "    <tr>\n",
       "      <th>1</th>\n",
       "      <td>Positive</td>\n",
       "      <td>im getting on borderlands and i will kill you ...</td>\n",
       "      <td>im getting borderlands kill</td>\n",
       "    </tr>\n",
       "    <tr>\n",
       "      <th>2</th>\n",
       "      <td>Positive</td>\n",
       "      <td>im coming on borderlands and i will murder you...</td>\n",
       "      <td>im coming borderlands murder</td>\n",
       "    </tr>\n",
       "    <tr>\n",
       "      <th>3</th>\n",
       "      <td>Positive</td>\n",
       "      <td>im getting on borderlands 2 and i will murder ...</td>\n",
       "      <td>im getting borderlands murder</td>\n",
       "    </tr>\n",
       "    <tr>\n",
       "      <th>4</th>\n",
       "      <td>Positive</td>\n",
       "      <td>im getting into borderlands and i can murder y...</td>\n",
       "      <td>im getting borderlands murder</td>\n",
       "    </tr>\n",
       "    <tr>\n",
       "      <th>...</th>\n",
       "      <td>...</td>\n",
       "      <td>...</td>\n",
       "      <td>...</td>\n",
       "    </tr>\n",
       "    <tr>\n",
       "      <th>74676</th>\n",
       "      <td>Positive</td>\n",
       "      <td>Just realized that the Windows partition of my...</td>\n",
       "      <td>realized windows partition mac like years behi...</td>\n",
       "    </tr>\n",
       "    <tr>\n",
       "      <th>74677</th>\n",
       "      <td>Positive</td>\n",
       "      <td>Just realized that my Mac window partition is ...</td>\n",
       "      <td>realized mac window partition years behind nvi...</td>\n",
       "    </tr>\n",
       "    <tr>\n",
       "      <th>74678</th>\n",
       "      <td>Positive</td>\n",
       "      <td>Just realized the windows partition of my Mac ...</td>\n",
       "      <td>realized windows partition mac years behind nv...</td>\n",
       "    </tr>\n",
       "    <tr>\n",
       "      <th>74679</th>\n",
       "      <td>Positive</td>\n",
       "      <td>Just realized between the windows partition of...</td>\n",
       "      <td>realized windows partition mac like years behi...</td>\n",
       "    </tr>\n",
       "    <tr>\n",
       "      <th>74680</th>\n",
       "      <td>Positive</td>\n",
       "      <td>Just like the windows partition of my Mac is l...</td>\n",
       "      <td>like windows partition mac like years behind d...</td>\n",
       "    </tr>\n",
       "  </tbody>\n",
       "</table>\n",
       "<p>74681 rows × 3 columns</p>\n",
       "</div>"
      ],
      "text/plain": [
       "       Positive im getting on borderlands and i will murder you all ,  \\\n",
       "0      Positive  I am coming to the borders and I will kill you...      \n",
       "1      Positive  im getting on borderlands and i will kill you ...      \n",
       "2      Positive  im coming on borderlands and i will murder you...      \n",
       "3      Positive  im getting on borderlands 2 and i will murder ...      \n",
       "4      Positive  im getting into borderlands and i can murder y...      \n",
       "...         ...                                                ...      \n",
       "74676  Positive  Just realized that the Windows partition of my...      \n",
       "74677  Positive  Just realized that my Mac window partition is ...      \n",
       "74678  Positive  Just realized the windows partition of my Mac ...      \n",
       "74679  Positive  Just realized between the windows partition of...      \n",
       "74680  Positive  Just like the windows partition of my Mac is l...      \n",
       "\n",
       "                                                    Text  \n",
       "0                                    coming borders kill  \n",
       "1                            im getting borderlands kill  \n",
       "2                           im coming borderlands murder  \n",
       "3                          im getting borderlands murder  \n",
       "4                          im getting borderlands murder  \n",
       "...                                                  ...  \n",
       "74676  realized windows partition mac like years behi...  \n",
       "74677  realized mac window partition years behind nvi...  \n",
       "74678  realized windows partition mac years behind nv...  \n",
       "74679  realized windows partition mac like years behi...  \n",
       "74680  like windows partition mac like years behind d...  \n",
       "\n",
       "[74681 rows x 3 columns]"
      ]
     },
     "execution_count": 28,
     "metadata": {},
     "output_type": "execute_result"
    }
   ],
   "source": [
    "df_train"
   ]
  },
  {
   "cell_type": "markdown",
   "id": "aa036906",
   "metadata": {
    "papermill": {
     "duration": 0.018819,
     "end_time": "2024-02-18T19:59:15.117696",
     "exception": false,
     "start_time": "2024-02-18T19:59:15.098877",
     "status": "completed"
    },
    "tags": []
   },
   "source": [
    "# Transfer to one hot vector"
   ]
  },
  {
   "cell_type": "code",
   "execution_count": 29,
   "id": "05a57c12",
   "metadata": {
    "execution": {
     "iopub.execute_input": "2024-02-18T19:59:15.156637Z",
     "iopub.status.busy": "2024-02-18T19:59:15.156392Z",
     "iopub.status.idle": "2024-02-18T19:59:15.161510Z",
     "shell.execute_reply": "2024-02-18T19:59:15.160588Z"
    },
    "papermill": {
     "duration": 0.026621,
     "end_time": "2024-02-18T19:59:15.163284",
     "exception": false,
     "start_time": "2024-02-18T19:59:15.136663",
     "status": "completed"
    },
    "tags": []
   },
   "outputs": [
    {
     "data": {
      "text/plain": [
       "array(['Positive', 'Positive', 'Positive', ..., 'Neutral', 'Neutral',\n",
       "       'Neutral'], dtype=object)"
      ]
     },
     "execution_count": 29,
     "metadata": {},
     "output_type": "execute_result"
    }
   ],
   "source": [
    "df_train_target"
   ]
  },
  {
   "cell_type": "code",
   "execution_count": 30,
   "id": "93093006",
   "metadata": {
    "execution": {
     "iopub.execute_input": "2024-02-18T19:59:15.202466Z",
     "iopub.status.busy": "2024-02-18T19:59:15.202202Z",
     "iopub.status.idle": "2024-02-18T19:59:15.205988Z",
     "shell.execute_reply": "2024-02-18T19:59:15.205154Z"
    },
    "papermill": {
     "duration": 0.02538,
     "end_time": "2024-02-18T19:59:15.207811",
     "exception": false,
     "start_time": "2024-02-18T19:59:15.182431",
     "status": "completed"
    },
    "tags": []
   },
   "outputs": [],
   "source": [
    "from sklearn.preprocessing import OneHotEncoder"
   ]
  },
  {
   "cell_type": "code",
   "execution_count": 31,
   "id": "3cef4145",
   "metadata": {
    "execution": {
     "iopub.execute_input": "2024-02-18T19:59:15.247148Z",
     "iopub.status.busy": "2024-02-18T19:59:15.246869Z",
     "iopub.status.idle": "2024-02-18T19:59:15.252063Z",
     "shell.execute_reply": "2024-02-18T19:59:15.251092Z"
    },
    "papermill": {
     "duration": 0.027064,
     "end_time": "2024-02-18T19:59:15.253977",
     "exception": false,
     "start_time": "2024-02-18T19:59:15.226913",
     "status": "completed"
    },
    "tags": []
   },
   "outputs": [],
   "source": [
    "encoder = OneHotEncoder()"
   ]
  },
  {
   "cell_type": "code",
   "execution_count": 32,
   "id": "c8d19532",
   "metadata": {
    "execution": {
     "iopub.execute_input": "2024-02-18T19:59:15.293205Z",
     "iopub.status.busy": "2024-02-18T19:59:15.292930Z",
     "iopub.status.idle": "2024-02-18T19:59:15.296744Z",
     "shell.execute_reply": "2024-02-18T19:59:15.295942Z"
    },
    "papermill": {
     "duration": 0.025371,
     "end_time": "2024-02-18T19:59:15.298545",
     "exception": false,
     "start_time": "2024-02-18T19:59:15.273174",
     "status": "completed"
    },
    "tags": []
   },
   "outputs": [],
   "source": [
    "df_train_target_reshaped = df_train_target.reshape(-1,1)"
   ]
  },
  {
   "cell_type": "code",
   "execution_count": 33,
   "id": "75b2baf7",
   "metadata": {
    "execution": {
     "iopub.execute_input": "2024-02-18T19:59:15.338984Z",
     "iopub.status.busy": "2024-02-18T19:59:15.338436Z",
     "iopub.status.idle": "2024-02-18T19:59:15.348754Z",
     "shell.execute_reply": "2024-02-18T19:59:15.347864Z"
    },
    "papermill": {
     "duration": 0.032754,
     "end_time": "2024-02-18T19:59:15.350696",
     "exception": false,
     "start_time": "2024-02-18T19:59:15.317942",
     "status": "completed"
    },
    "tags": []
   },
   "outputs": [
    {
     "data": {
      "text/plain": [
       "array([[0, 0, 1],\n",
       "       [0, 0, 1],\n",
       "       [0, 0, 1],\n",
       "       ...,\n",
       "       [0, 1, 0],\n",
       "       [0, 1, 0],\n",
       "       [0, 1, 0]])"
      ]
     },
     "execution_count": 33,
     "metadata": {},
     "output_type": "execute_result"
    }
   ],
   "source": [
    "onehot_encoded = encoder.fit_transform(df_train_target_reshaped)\n",
    "onehot_encoded_array = onehot_encoded.toarray().astype(int)\n",
    "onehot_encoded_array"
   ]
  },
  {
   "cell_type": "markdown",
   "id": "e3ab8f63",
   "metadata": {
    "papermill": {
     "duration": 0.019033,
     "end_time": "2024-02-18T19:59:15.389695",
     "exception": false,
     "start_time": "2024-02-18T19:59:15.370662",
     "status": "completed"
    },
    "tags": []
   },
   "source": [
    "# Split data to training set and testing set"
   ]
  },
  {
   "cell_type": "code",
   "execution_count": 34,
   "id": "2cb37068",
   "metadata": {
    "execution": {
     "iopub.execute_input": "2024-02-18T19:59:15.429425Z",
     "iopub.status.busy": "2024-02-18T19:59:15.429109Z",
     "iopub.status.idle": "2024-02-18T19:59:15.434987Z",
     "shell.execute_reply": "2024-02-18T19:59:15.434326Z"
    },
    "papermill": {
     "duration": 0.027915,
     "end_time": "2024-02-18T19:59:15.436798",
     "exception": false,
     "start_time": "2024-02-18T19:59:15.408883",
     "status": "completed"
    },
    "tags": []
   },
   "outputs": [],
   "source": [
    "X_train, X_test, y_train, y_test = train_test_split(df_train_text, onehot_encoded_array, test_size = 0.3)"
   ]
  },
  {
   "cell_type": "code",
   "execution_count": 35,
   "id": "efb4acce",
   "metadata": {
    "execution": {
     "iopub.execute_input": "2024-02-18T19:59:15.476991Z",
     "iopub.status.busy": "2024-02-18T19:59:15.476739Z",
     "iopub.status.idle": "2024-02-18T19:59:15.482570Z",
     "shell.execute_reply": "2024-02-18T19:59:15.481757Z"
    },
    "papermill": {
     "duration": 0.027865,
     "end_time": "2024-02-18T19:59:15.484418",
     "exception": false,
     "start_time": "2024-02-18T19:59:15.456553",
     "status": "completed"
    },
    "tags": []
   },
   "outputs": [
    {
     "data": {
      "text/plain": [
       "(array(['tf r u say moved',\n",
       "        'gopunk new book exposes pot kettle black confront evildoers partisan politics destroying america insist digest pages open mindsjesus one step sinavailable amazon amazoncomdp httpstcolgfjefu',\n",
       "        'wow new upcoming update lots splinter cell new items coming including upgrade im excited ai teammates also coming update excited check patch ghostreconubisoftcomgameengbnew',\n",
       "        ...,\n",
       "        'find funny took call duty bring gem lecture attention highly recommend looking youtube minutes long pictwittercomwowpiso',\n",
       "        'lookunk sexy sparkly art',\n",
       "        'check item got wristwraps recording original insatiable maw'],\n",
       "       dtype=object),\n",
       " array(['microsofttodo app system sucks wunderlist superior microsoft thanks nothing',\n",
       "        'oh wow', 'let know fix ugly trash copy paste gameplay', ...,\n",
       "        'rainbowgame im going list games order happened pinger hacker pinger pinger thrower hacker thrower hacker pinger ive lost games row season ever season absolute garbage go pingers hackers throwers',\n",
       "        'red dead redemption volume looking dope',\n",
       "        'nbak guys gotta get lucky chris smoove k sports manager commentates real basketball influence definitely basketball knowledge comes playing social understanding go since reach shite job make offer would make sense'],\n",
       "       dtype=object))"
      ]
     },
     "execution_count": 35,
     "metadata": {},
     "output_type": "execute_result"
    }
   ],
   "source": [
    "X_train,X_test"
   ]
  },
  {
   "cell_type": "markdown",
   "id": "43ddced5",
   "metadata": {
    "papermill": {
     "duration": 0.019162,
     "end_time": "2024-02-18T19:59:15.523292",
     "exception": false,
     "start_time": "2024-02-18T19:59:15.504130",
     "status": "completed"
    },
    "tags": []
   },
   "source": [
    "# Callback function"
   ]
  },
  {
   "cell_type": "code",
   "execution_count": 36,
   "id": "0155b00e",
   "metadata": {
    "execution": {
     "iopub.execute_input": "2024-02-18T19:59:15.563941Z",
     "iopub.status.busy": "2024-02-18T19:59:15.563172Z",
     "iopub.status.idle": "2024-02-18T19:59:27.706132Z",
     "shell.execute_reply": "2024-02-18T19:59:27.705350Z"
    },
    "papermill": {
     "duration": 12.165742,
     "end_time": "2024-02-18T19:59:27.708458",
     "exception": false,
     "start_time": "2024-02-18T19:59:15.542716",
     "status": "completed"
    },
    "tags": []
   },
   "outputs": [
    {
     "name": "stderr",
     "output_type": "stream",
     "text": [
      "2024-02-18 19:59:17.277311: E external/local_xla/xla/stream_executor/cuda/cuda_dnn.cc:9261] Unable to register cuDNN factory: Attempting to register factory for plugin cuDNN when one has already been registered\n",
      "2024-02-18 19:59:17.277412: E external/local_xla/xla/stream_executor/cuda/cuda_fft.cc:607] Unable to register cuFFT factory: Attempting to register factory for plugin cuFFT when one has already been registered\n",
      "2024-02-18 19:59:17.406653: E external/local_xla/xla/stream_executor/cuda/cuda_blas.cc:1515] Unable to register cuBLAS factory: Attempting to register factory for plugin cuBLAS when one has already been registered\n"
     ]
    }
   ],
   "source": [
    "import tensorflow as tf"
   ]
  },
  {
   "cell_type": "code",
   "execution_count": 37,
   "id": "55e1fee2",
   "metadata": {
    "execution": {
     "iopub.execute_input": "2024-02-18T19:59:27.750146Z",
     "iopub.status.busy": "2024-02-18T19:59:27.749544Z",
     "iopub.status.idle": "2024-02-18T19:59:27.846147Z",
     "shell.execute_reply": "2024-02-18T19:59:27.845189Z"
    },
    "papermill": {
     "duration": 0.119519,
     "end_time": "2024-02-18T19:59:27.848399",
     "exception": false,
     "start_time": "2024-02-18T19:59:27.728880",
     "status": "completed"
    },
    "tags": []
   },
   "outputs": [],
   "source": [
    "early_stopping = tf.keras.callbacks.EarlyStopping(monitor='val_loss', patience=5)"
   ]
  },
  {
   "cell_type": "code",
   "execution_count": 38,
   "id": "8503ce3d",
   "metadata": {
    "execution": {
     "iopub.execute_input": "2024-02-18T19:59:27.889594Z",
     "iopub.status.busy": "2024-02-18T19:59:27.889260Z",
     "iopub.status.idle": "2024-02-18T19:59:27.893972Z",
     "shell.execute_reply": "2024-02-18T19:59:27.893119Z"
    },
    "papermill": {
     "duration": 0.02707,
     "end_time": "2024-02-18T19:59:27.895878",
     "exception": false,
     "start_time": "2024-02-18T19:59:27.868808",
     "status": "completed"
    },
    "tags": []
   },
   "outputs": [],
   "source": [
    "check_point = tf.keras.callbacks.ModelCheckpoint(\n",
    "    '/kaggle/working/check_point.hdf5',\n",
    "    monitor=\"val_loss\",\n",
    "    verbose=0,\n",
    "    save_best_only=False,\n",
    "    save_weights_only=False,\n",
    "    mode=\"auto\",\n",
    "    save_freq=\"epoch\"\n",
    ")"
   ]
  },
  {
   "cell_type": "code",
   "execution_count": 39,
   "id": "5a06daa6",
   "metadata": {
    "execution": {
     "iopub.execute_input": "2024-02-18T19:59:27.935943Z",
     "iopub.status.busy": "2024-02-18T19:59:27.935688Z",
     "iopub.status.idle": "2024-02-18T19:59:27.940891Z",
     "shell.execute_reply": "2024-02-18T19:59:27.940221Z"
    },
    "papermill": {
     "duration": 0.027453,
     "end_time": "2024-02-18T19:59:27.942835",
     "exception": false,
     "start_time": "2024-02-18T19:59:27.915382",
     "status": "completed"
    },
    "tags": []
   },
   "outputs": [],
   "source": [
    "def scheduler(epoch, lr):\n",
    "    if epoch < 12:\n",
    "        return float(lr)\n",
    "    else:\n",
    "        return float(lr * tf.math.exp(-0.1))"
   ]
  },
  {
   "cell_type": "code",
   "execution_count": 40,
   "id": "50992e0b",
   "metadata": {
    "execution": {
     "iopub.execute_input": "2024-02-18T19:59:27.983366Z",
     "iopub.status.busy": "2024-02-18T19:59:27.983057Z",
     "iopub.status.idle": "2024-02-18T19:59:27.987062Z",
     "shell.execute_reply": "2024-02-18T19:59:27.986254Z"
    },
    "papermill": {
     "duration": 0.026351,
     "end_time": "2024-02-18T19:59:27.989121",
     "exception": false,
     "start_time": "2024-02-18T19:59:27.962770",
     "status": "completed"
    },
    "tags": []
   },
   "outputs": [],
   "source": [
    "LR_Scheduler = tf.keras.callbacks.LearningRateScheduler(scheduler)"
   ]
  },
  {
   "cell_type": "markdown",
   "id": "ea22c99a",
   "metadata": {
    "papermill": {
     "duration": 0.019291,
     "end_time": "2024-02-18T19:59:28.028078",
     "exception": false,
     "start_time": "2024-02-18T19:59:28.008787",
     "status": "completed"
    },
    "tags": []
   },
   "source": [
    "# Model"
   ]
  },
  {
   "cell_type": "code",
   "execution_count": 41,
   "id": "80e4b138",
   "metadata": {
    "execution": {
     "iopub.execute_input": "2024-02-18T19:59:28.068637Z",
     "iopub.status.busy": "2024-02-18T19:59:28.068382Z",
     "iopub.status.idle": "2024-02-18T19:59:28.930310Z",
     "shell.execute_reply": "2024-02-18T19:59:28.929530Z"
    },
    "papermill": {
     "duration": 0.884901,
     "end_time": "2024-02-18T19:59:28.932685",
     "exception": false,
     "start_time": "2024-02-18T19:59:28.047784",
     "status": "completed"
    },
    "tags": []
   },
   "outputs": [],
   "source": [
    "import tensorflow as tf\n",
    "import tensorflow_hub as hub\n",
    "import tensorflow_text as text"
   ]
  },
  {
   "cell_type": "code",
   "execution_count": 42,
   "id": "de872182",
   "metadata": {
    "execution": {
     "iopub.execute_input": "2024-02-18T19:59:28.981923Z",
     "iopub.status.busy": "2024-02-18T19:59:28.981575Z",
     "iopub.status.idle": "2024-02-18T19:59:48.193090Z",
     "shell.execute_reply": "2024-02-18T19:59:48.192247Z"
    },
    "papermill": {
     "duration": 19.235222,
     "end_time": "2024-02-18T19:59:48.195682",
     "exception": false,
     "start_time": "2024-02-18T19:59:28.960460",
     "status": "completed"
    },
    "tags": []
   },
   "outputs": [],
   "source": [
    "bert_preprocess = hub.KerasLayer(\"https://tfhub.dev/tensorflow/bert_en_uncased_preprocess/3\")\n",
    "bert_encoder = hub.KerasLayer(\"https://tfhub.dev/tensorflow/bert_en_uncased_L-12_H-768_A-12/4\")"
   ]
  },
  {
   "cell_type": "code",
   "execution_count": 43,
   "id": "7412e4b4",
   "metadata": {
    "execution": {
     "iopub.execute_input": "2024-02-18T19:59:48.237535Z",
     "iopub.status.busy": "2024-02-18T19:59:48.236907Z",
     "iopub.status.idle": "2024-02-18T19:59:48.245189Z",
     "shell.execute_reply": "2024-02-18T19:59:48.244289Z"
    },
    "papermill": {
     "duration": 0.031133,
     "end_time": "2024-02-18T19:59:48.247078",
     "exception": false,
     "start_time": "2024-02-18T19:59:48.215945",
     "status": "completed"
    },
    "tags": []
   },
   "outputs": [],
   "source": [
    "def build_model():\n",
    "    bert_input = tf.keras.layers.Input(shape = (), dtype = tf.string, name='text_bert')\n",
    "\n",
    "#     # Bert Embedding \n",
    "    preprocessed_text = bert_preprocess(bert_input)\n",
    "    outputs = bert_encoder(preprocessed_text)\n",
    "    pooled_output = tf.keras.layers.concatenate(\n",
    "        tuple([outputs['encoder_outputs'][i] for i in range(-4, 0)]), \n",
    "        name = 'last_4_hidden_states',\n",
    "        axis = -1\n",
    "    )[:, 0, :]\n",
    "    pooled_output = tf.keras.layers.LayerNormalization()(pooled_output)\n",
    "    \n",
    "    print(pooled_output.shape)\n",
    "    Dense = tf.keras.layers.Dropout(0.5)(pooled_output)\n",
    "    Dense = tf.keras.layers.Dense(768, activation='relu')(Dense)\n",
    "    Dense = tf.keras.layers.Dropout(0.5)(Dense)\n",
    "    classifer = tf.keras.layers.Dense(3,activation='softmax', name=\"output\")(Dense)\n",
    "    model = tf.keras.models.Model(inputs = [bert_input], outputs = [classifer])\n",
    "    return model"
   ]
  },
  {
   "cell_type": "code",
   "execution_count": 44,
   "id": "eb057094",
   "metadata": {
    "execution": {
     "iopub.execute_input": "2024-02-18T19:59:48.287639Z",
     "iopub.status.busy": "2024-02-18T19:59:48.287254Z",
     "iopub.status.idle": "2024-02-18T19:59:49.120475Z",
     "shell.execute_reply": "2024-02-18T19:59:49.119434Z"
    },
    "papermill": {
     "duration": 0.856022,
     "end_time": "2024-02-18T19:59:49.122662",
     "exception": false,
     "start_time": "2024-02-18T19:59:48.266640",
     "status": "completed"
    },
    "tags": []
   },
   "outputs": [
    {
     "name": "stdout",
     "output_type": "stream",
     "text": [
      "(None, 3072)\n"
     ]
    }
   ],
   "source": [
    "model = build_model()"
   ]
  },
  {
   "cell_type": "code",
   "execution_count": 45,
   "id": "7099efae",
   "metadata": {
    "execution": {
     "iopub.execute_input": "2024-02-18T19:59:49.164545Z",
     "iopub.status.busy": "2024-02-18T19:59:49.163900Z",
     "iopub.status.idle": "2024-02-18T19:59:49.237727Z",
     "shell.execute_reply": "2024-02-18T19:59:49.237008Z"
    },
    "papermill": {
     "duration": 0.096675,
     "end_time": "2024-02-18T19:59:49.239596",
     "exception": false,
     "start_time": "2024-02-18T19:59:49.142921",
     "status": "completed"
    },
    "tags": []
   },
   "outputs": [
    {
     "name": "stdout",
     "output_type": "stream",
     "text": [
      "Model: \"model\"\n",
      "__________________________________________________________________________________________________\n",
      " Layer (type)                Output Shape                 Param #   Connected to                  \n",
      "==================================================================================================\n",
      " text_bert (InputLayer)      [(None,)]                    0         []                            \n",
      "                                                                                                  \n",
      " keras_layer (KerasLayer)    {'input_word_ids': (None,    0         ['text_bert[0][0]']           \n",
      "                             128),                                                                \n",
      "                              'input_type_ids': (None,                                            \n",
      "                             128),                                                                \n",
      "                              'input_mask': (None, 128)                                           \n",
      "                             }                                                                    \n",
      "                                                                                                  \n",
      " keras_layer_1 (KerasLayer)  {'default': (None, 768),     1094822   ['keras_layer[0][0]',         \n",
      "                              'sequence_output': (None,   41         'keras_layer[0][1]',         \n",
      "                              128, 768),                             'keras_layer[0][2]']         \n",
      "                              'encoder_outputs': [(None                                           \n",
      "                             , 128, 768),                                                         \n",
      "                              (None, 128, 768),                                                   \n",
      "                              (None, 128, 768),                                                   \n",
      "                              (None, 128, 768),                                                   \n",
      "                              (None, 128, 768),                                                   \n",
      "                              (None, 128, 768),                                                   \n",
      "                              (None, 128, 768),                                                   \n",
      "                              (None, 128, 768),                                                   \n",
      "                              (None, 128, 768),                                                   \n",
      "                              (None, 128, 768),                                                   \n",
      "                              (None, 128, 768),                                                   \n",
      "                              (None, 128, 768)],                                                  \n",
      "                              'pooled_output': (None, 7                                           \n",
      "                             68)}                                                                 \n",
      "                                                                                                  \n",
      " last_4_hidden_states (Conc  (None, 128, 3072)            0         ['keras_layer_1[0][9]',       \n",
      " atenate)                                                            'keras_layer_1[0][10]',      \n",
      "                                                                     'keras_layer_1[0][11]',      \n",
      "                                                                     'keras_layer_1[0][12]']      \n",
      "                                                                                                  \n",
      " tf.__operators__.getitem (  (None, 3072)                 0         ['last_4_hidden_states[0][0]']\n",
      " SlicingOpLambda)                                                                                 \n",
      "                                                                                                  \n",
      " layer_normalization (Layer  (None, 3072)                 6144      ['tf.__operators__.getitem[0][\n",
      " Normalization)                                                     0]']                          \n",
      "                                                                                                  \n",
      " dropout (Dropout)           (None, 3072)                 0         ['layer_normalization[0][0]'] \n",
      "                                                                                                  \n",
      " dense (Dense)               (None, 768)                  2360064   ['dropout[0][0]']             \n",
      "                                                                                                  \n",
      " dropout_1 (Dropout)         (None, 768)                  0         ['dense[0][0]']               \n",
      "                                                                                                  \n",
      " output (Dense)              (None, 3)                    2307      ['dropout_1[0][0]']           \n",
      "                                                                                                  \n",
      "==================================================================================================\n",
      "Total params: 111850756 (426.68 MB)\n",
      "Trainable params: 2368515 (9.04 MB)\n",
      "Non-trainable params: 109482241 (417.64 MB)\n",
      "__________________________________________________________________________________________________\n"
     ]
    }
   ],
   "source": [
    "model.summary()\n",
    "\n",
    "model.compile(optimizer=tf.keras.optimizers.Adam(learning_rate=1e-5),\n",
    "              loss='categorical_crossentropy',\n",
    "              metrics=['accuracy'])"
   ]
  },
  {
   "cell_type": "code",
   "execution_count": 46,
   "id": "60b2e134",
   "metadata": {
    "execution": {
     "iopub.execute_input": "2024-02-18T19:59:49.289549Z",
     "iopub.status.busy": "2024-02-18T19:59:49.288893Z",
     "iopub.status.idle": "2024-02-18T19:59:49.294039Z",
     "shell.execute_reply": "2024-02-18T19:59:49.293102Z"
    },
    "papermill": {
     "duration": 0.032322,
     "end_time": "2024-02-18T19:59:49.296027",
     "exception": false,
     "start_time": "2024-02-18T19:59:49.263705",
     "status": "completed"
    },
    "tags": []
   },
   "outputs": [
    {
     "name": "stdout",
     "output_type": "stream",
     "text": [
      "tf r u say moved\n",
      "gopunk new book exposes pot kettle black confront evildoers partisan politics destroying america insist digest pages open mindsjesus one step sinavailable amazon amazoncomdp httpstcolgfjefu\n",
      "wow new upcoming update lots splinter cell new items coming including upgrade im excited ai teammates also coming update excited check patch ghostreconubisoftcomgameengbnew\n",
      "one og nctzen azaxdeh decided shop local discount support\n",
      "remember watching woman live wondering choreographed dance four women bloody incredible ever want three minutes goosebumps watch\n"
     ]
    }
   ],
   "source": [
    "s = 0\n",
    "for i in X_train:\n",
    "    print(i)\n",
    "    s += 1\n",
    "    if s == 5 : break"
   ]
  },
  {
   "cell_type": "code",
   "execution_count": 47,
   "id": "ac812a79",
   "metadata": {
    "execution": {
     "iopub.execute_input": "2024-02-18T19:59:49.346082Z",
     "iopub.status.busy": "2024-02-18T19:59:49.345484Z",
     "iopub.status.idle": "2024-02-18T19:59:49.351081Z",
     "shell.execute_reply": "2024-02-18T19:59:49.350056Z"
    },
    "papermill": {
     "duration": 0.03256,
     "end_time": "2024-02-18T19:59:49.352975",
     "exception": false,
     "start_time": "2024-02-18T19:59:49.320415",
     "status": "completed"
    },
    "tags": []
   },
   "outputs": [
    {
     "data": {
      "text/plain": [
       "2800"
      ]
     },
     "execution_count": 47,
     "metadata": {},
     "output_type": "execute_result"
    }
   ],
   "source": [
    "# X_train = pd.DataFrame(X_train)\n",
    "len(X_train)"
   ]
  },
  {
   "cell_type": "code",
   "execution_count": 48,
   "id": "297d362f",
   "metadata": {
    "execution": {
     "iopub.execute_input": "2024-02-18T19:59:49.403749Z",
     "iopub.status.busy": "2024-02-18T19:59:49.403428Z",
     "iopub.status.idle": "2024-02-18T19:59:49.411359Z",
     "shell.execute_reply": "2024-02-18T19:59:49.410461Z"
    },
    "papermill": {
     "duration": 0.034776,
     "end_time": "2024-02-18T19:59:49.413243",
     "exception": false,
     "start_time": "2024-02-18T19:59:49.378467",
     "status": "completed"
    },
    "tags": []
   },
   "outputs": [],
   "source": [
    "X_train = np.array([str(i) for i in X_train])"
   ]
  },
  {
   "cell_type": "code",
   "execution_count": 49,
   "id": "36aa3a23",
   "metadata": {
    "execution": {
     "iopub.execute_input": "2024-02-18T19:59:49.462903Z",
     "iopub.status.busy": "2024-02-18T19:59:49.462578Z",
     "iopub.status.idle": "2024-02-18T19:59:49.468048Z",
     "shell.execute_reply": "2024-02-18T19:59:49.467200Z"
    },
    "papermill": {
     "duration": 0.032337,
     "end_time": "2024-02-18T19:59:49.469863",
     "exception": false,
     "start_time": "2024-02-18T19:59:49.437526",
     "status": "completed"
    },
    "tags": []
   },
   "outputs": [],
   "source": [
    "X_test = np.array([str(i) for i in X_test])"
   ]
  },
  {
   "cell_type": "code",
   "execution_count": 50,
   "id": "8a6cb1f8",
   "metadata": {
    "execution": {
     "iopub.execute_input": "2024-02-18T19:59:49.519988Z",
     "iopub.status.busy": "2024-02-18T19:59:49.519426Z",
     "iopub.status.idle": "2024-02-18T19:59:49.525122Z",
     "shell.execute_reply": "2024-02-18T19:59:49.524222Z"
    },
    "papermill": {
     "duration": 0.032313,
     "end_time": "2024-02-18T19:59:49.526953",
     "exception": false,
     "start_time": "2024-02-18T19:59:49.494640",
     "status": "completed"
    },
    "tags": []
   },
   "outputs": [
    {
     "data": {
      "text/plain": [
       "2800"
      ]
     },
     "execution_count": 50,
     "metadata": {},
     "output_type": "execute_result"
    }
   ],
   "source": [
    "len(X_train)"
   ]
  },
  {
   "cell_type": "code",
   "execution_count": 51,
   "id": "1ab6da6f",
   "metadata": {
    "execution": {
     "iopub.execute_input": "2024-02-18T19:59:49.576596Z",
     "iopub.status.busy": "2024-02-18T19:59:49.576271Z",
     "iopub.status.idle": "2024-02-18T20:09:56.370368Z",
     "shell.execute_reply": "2024-02-18T20:09:56.369094Z"
    },
    "papermill": {
     "duration": 606.821416,
     "end_time": "2024-02-18T20:09:56.372502",
     "exception": false,
     "start_time": "2024-02-18T19:59:49.551086",
     "status": "completed"
    },
    "tags": []
   },
   "outputs": [
    {
     "name": "stdout",
     "output_type": "stream",
     "text": [
      "Epoch 1/100\n"
     ]
    },
    {
     "name": "stderr",
     "output_type": "stream",
     "text": [
      "WARNING: All log messages before absl::InitializeLog() is called are written to STDERR\n",
      "I0000 00:00:1708286401.622502      70 device_compiler.h:186] Compiled cluster using XLA!  This line is logged at most once for the lifetime of the process.\n"
     ]
    },
    {
     "name": "stdout",
     "output_type": "stream",
     "text": [
      "88/88 [==============================] - ETA: 0s - loss: 1.9760 - accuracy: 0.3914"
     ]
    },
    {
     "name": "stderr",
     "output_type": "stream",
     "text": [
      "/opt/conda/lib/python3.10/site-packages/keras/src/engine/training.py:3103: UserWarning: You are saving your model as an HDF5 file via `model.save()`. This file format is considered legacy. We recommend using instead the native Keras format, e.g. `model.save('my_model.keras')`.\n",
      "  saving_api.save_model(\n"
     ]
    },
    {
     "name": "stdout",
     "output_type": "stream",
     "text": [
      "88/88 [==============================] - 39s 304ms/step - loss: 1.9760 - accuracy: 0.3914 - val_loss: 1.1531 - val_accuracy: 0.4892\n",
      "Epoch 2/100\n",
      "88/88 [==============================] - 26s 296ms/step - loss: 1.7926 - accuracy: 0.4132 - val_loss: 1.0940 - val_accuracy: 0.5067\n",
      "Epoch 3/100\n",
      "88/88 [==============================] - 26s 296ms/step - loss: 1.7489 - accuracy: 0.4214 - val_loss: 1.0695 - val_accuracy: 0.5167\n",
      "Epoch 4/100\n",
      "88/88 [==============================] - 26s 296ms/step - loss: 1.6217 - accuracy: 0.4429 - val_loss: 1.0102 - val_accuracy: 0.5233\n",
      "Epoch 5/100\n",
      "88/88 [==============================] - 26s 295ms/step - loss: 1.5810 - accuracy: 0.4450 - val_loss: 0.9643 - val_accuracy: 0.5500\n",
      "Epoch 6/100\n",
      "88/88 [==============================] - 26s 294ms/step - loss: 1.4477 - accuracy: 0.4579 - val_loss: 0.9609 - val_accuracy: 0.5558\n",
      "Epoch 7/100\n",
      "88/88 [==============================] - 26s 294ms/step - loss: 1.4590 - accuracy: 0.4611 - val_loss: 0.9492 - val_accuracy: 0.5533\n",
      "Epoch 8/100\n",
      "88/88 [==============================] - 26s 295ms/step - loss: 1.4371 - accuracy: 0.4571 - val_loss: 0.9183 - val_accuracy: 0.5617\n",
      "Epoch 9/100\n",
      "88/88 [==============================] - 26s 294ms/step - loss: 1.3468 - accuracy: 0.4732 - val_loss: 0.9145 - val_accuracy: 0.5692\n",
      "Epoch 10/100\n",
      "88/88 [==============================] - 26s 294ms/step - loss: 1.3591 - accuracy: 0.4700 - val_loss: 0.9056 - val_accuracy: 0.5700\n",
      "Epoch 11/100\n",
      "88/88 [==============================] - 26s 294ms/step - loss: 1.2865 - accuracy: 0.4743 - val_loss: 0.8938 - val_accuracy: 0.5783\n",
      "Epoch 12/100\n",
      "88/88 [==============================] - 26s 293ms/step - loss: 1.2521 - accuracy: 0.4868 - val_loss: 0.8939 - val_accuracy: 0.5742\n",
      "Epoch 13/100\n",
      "88/88 [==============================] - 26s 293ms/step - loss: 1.2853 - accuracy: 0.4764 - val_loss: 0.8878 - val_accuracy: 0.5858\n",
      "Epoch 14/100\n",
      "88/88 [==============================] - 26s 294ms/step - loss: 1.2354 - accuracy: 0.5075 - val_loss: 0.8840 - val_accuracy: 0.5875\n",
      "Epoch 15/100\n",
      "88/88 [==============================] - 26s 294ms/step - loss: 1.2034 - accuracy: 0.5004 - val_loss: 0.8845 - val_accuracy: 0.6000\n",
      "Epoch 16/100\n",
      "88/88 [==============================] - 26s 294ms/step - loss: 1.2018 - accuracy: 0.4961 - val_loss: 0.8824 - val_accuracy: 0.6017\n",
      "Epoch 17/100\n",
      "88/88 [==============================] - 26s 294ms/step - loss: 1.1971 - accuracy: 0.4864 - val_loss: 0.8824 - val_accuracy: 0.5992\n",
      "Epoch 18/100\n",
      "88/88 [==============================] - 26s 294ms/step - loss: 1.1405 - accuracy: 0.5118 - val_loss: 0.8818 - val_accuracy: 0.6108\n",
      "Epoch 19/100\n",
      "88/88 [==============================] - 26s 293ms/step - loss: 1.1204 - accuracy: 0.5229 - val_loss: 0.8885 - val_accuracy: 0.5992\n",
      "Epoch 20/100\n",
      "88/88 [==============================] - 26s 294ms/step - loss: 1.1308 - accuracy: 0.5168 - val_loss: 0.8905 - val_accuracy: 0.5992\n",
      "Epoch 21/100\n",
      "88/88 [==============================] - 26s 295ms/step - loss: 1.0891 - accuracy: 0.5271 - val_loss: 0.8892 - val_accuracy: 0.6067\n",
      "Epoch 22/100\n",
      "88/88 [==============================] - 26s 294ms/step - loss: 1.0809 - accuracy: 0.5182 - val_loss: 0.8892 - val_accuracy: 0.6042\n",
      "Epoch 23/100\n",
      "88/88 [==============================] - 26s 294ms/step - loss: 1.0728 - accuracy: 0.5164 - val_loss: 0.8921 - val_accuracy: 0.6033\n"
     ]
    }
   ],
   "source": [
    "h = model.fit(X_train, y_train, \n",
    "              epochs=100, \n",
    "              validation_data=(X_test, y_test),\n",
    "              callbacks = [early_stopping,check_point])"
   ]
  },
  {
   "cell_type": "code",
   "execution_count": 52,
   "id": "258818da",
   "metadata": {
    "execution": {
     "iopub.execute_input": "2024-02-18T20:09:56.758962Z",
     "iopub.status.busy": "2024-02-18T20:09:56.758110Z",
     "iopub.status.idle": "2024-02-18T20:09:56.763567Z",
     "shell.execute_reply": "2024-02-18T20:09:56.762602Z"
    },
    "papermill": {
     "duration": 0.198777,
     "end_time": "2024-02-18T20:09:56.765691",
     "exception": false,
     "start_time": "2024-02-18T20:09:56.566914",
     "status": "completed"
    },
    "tags": []
   },
   "outputs": [
    {
     "name": "stdout",
     "output_type": "stream",
     "text": [
      "<class 'float'>\n",
      "<class 'str'>\n"
     ]
    }
   ],
   "source": [
    "x = 0.213\n",
    "print(type(x))\n",
    "x = str(x)\n",
    "print(type(x))"
   ]
  },
  {
   "cell_type": "markdown",
   "id": "03457ff7",
   "metadata": {
    "papermill": {
     "duration": 0.18499,
     "end_time": "2024-02-18T20:09:57.179544",
     "exception": false,
     "start_time": "2024-02-18T20:09:56.994554",
     "status": "completed"
    },
    "tags": []
   },
   "source": [
    "# F1 score"
   ]
  },
  {
   "cell_type": "code",
   "execution_count": 53,
   "id": "70438e9a",
   "metadata": {
    "execution": {
     "iopub.execute_input": "2024-02-18T20:09:57.553426Z",
     "iopub.status.busy": "2024-02-18T20:09:57.552196Z",
     "iopub.status.idle": "2024-02-18T20:09:57.557304Z",
     "shell.execute_reply": "2024-02-18T20:09:57.556358Z"
    },
    "papermill": {
     "duration": 0.194173,
     "end_time": "2024-02-18T20:09:57.559145",
     "exception": false,
     "start_time": "2024-02-18T20:09:57.364972",
     "status": "completed"
    },
    "tags": []
   },
   "outputs": [],
   "source": [
    "from sklearn.metrics import classification_report"
   ]
  },
  {
   "cell_type": "code",
   "execution_count": 54,
   "id": "75211b5d",
   "metadata": {
    "execution": {
     "iopub.execute_input": "2024-02-18T20:09:57.936314Z",
     "iopub.status.busy": "2024-02-18T20:09:57.935932Z",
     "iopub.status.idle": "2024-02-18T20:10:20.134882Z",
     "shell.execute_reply": "2024-02-18T20:10:20.134016Z"
    },
    "papermill": {
     "duration": 22.391436,
     "end_time": "2024-02-18T20:10:20.136942",
     "exception": false,
     "start_time": "2024-02-18T20:09:57.745506",
     "status": "completed"
    },
    "tags": []
   },
   "outputs": [
    {
     "data": {
      "text/plain": [
       "(0.0, 1.0)"
      ]
     },
     "execution_count": 54,
     "metadata": {},
     "output_type": "execute_result"
    },
    {
     "data": {
      "image/png": "[encoded data removed]",
      "text/plain": [
       "<Figure size 1400x500 with 1 Axes>"
      ]
     },
     "metadata": {},
     "output_type": "display_data"
    }
   ],
   "source": [
    "import matplotlib.pyplot as plt\n",
    "pd.DataFrame(h.history).plot(figsize = (14,5))\n",
    "plt.grid(True)\n",
    "plt.gca().set_ylim(0 , 1)"
   ]
  },
  {
   "cell_type": "code",
   "execution_count": 55,
   "id": "49093039",
   "metadata": {
    "execution": {
     "iopub.execute_input": "2024-02-18T20:10:20.511144Z",
     "iopub.status.busy": "2024-02-18T20:10:20.510797Z",
     "iopub.status.idle": "2024-02-18T20:10:28.006878Z",
     "shell.execute_reply": "2024-02-18T20:10:28.005977Z"
    },
    "papermill": {
     "duration": 7.685079,
     "end_time": "2024-02-18T20:10:28.008869",
     "exception": false,
     "start_time": "2024-02-18T20:10:20.323790",
     "status": "completed"
    },
    "tags": []
   },
   "outputs": [
    {
     "name": "stdout",
     "output_type": "stream",
     "text": [
      "38/38 [==============================] - 7s 195ms/step - loss: 0.8921 - accuracy: 0.6033\n"
     ]
    },
    {
     "data": {
      "text/plain": [
       "[0.8920716643333435, 0.6033333539962769]"
      ]
     },
     "execution_count": 55,
     "metadata": {},
     "output_type": "execute_result"
    }
   ],
   "source": [
    "model.evaluate(X_test, y_test)"
   ]
  },
  {
   "cell_type": "code",
   "execution_count": 56,
   "id": "707cbbf3",
   "metadata": {
    "execution": {
     "iopub.execute_input": "2024-02-18T20:10:28.391194Z",
     "iopub.status.busy": "2024-02-18T20:10:28.390833Z",
     "iopub.status.idle": "2024-02-18T20:10:28.397068Z",
     "shell.execute_reply": "2024-02-18T20:10:28.396184Z"
    },
    "papermill": {
     "duration": 0.200185,
     "end_time": "2024-02-18T20:10:28.399014",
     "exception": false,
     "start_time": "2024-02-18T20:10:28.198829",
     "status": "completed"
    },
    "tags": []
   },
   "outputs": [
    {
     "data": {
      "text/plain": [
       "('microsofttodo app system sucks wunderlist superior microsoft thanks nothing',\n",
       " array([1, 0, 0]))"
      ]
     },
     "execution_count": 56,
     "metadata": {},
     "output_type": "execute_result"
    }
   ],
   "source": [
    "X_test[0], y_test[0]"
   ]
  },
  {
   "cell_type": "code",
   "execution_count": 57,
   "id": "19555aab",
   "metadata": {
    "execution": {
     "iopub.execute_input": "2024-02-18T20:10:28.781768Z",
     "iopub.status.busy": "2024-02-18T20:10:28.781436Z",
     "iopub.status.idle": "2024-02-18T20:10:37.021809Z",
     "shell.execute_reply": "2024-02-18T20:10:37.020818Z"
    },
    "papermill": {
     "duration": 8.433139,
     "end_time": "2024-02-18T20:10:37.023834",
     "exception": false,
     "start_time": "2024-02-18T20:10:28.590695",
     "status": "completed"
    },
    "tags": []
   },
   "outputs": [
    {
     "name": "stdout",
     "output_type": "stream",
     "text": [
      "38/38 [==============================] - 8s 194ms/step\n"
     ]
    },
    {
     "data": {
      "text/plain": [
       "array([0.33059722, 0.40971828, 0.25968453], dtype=float32)"
      ]
     },
     "execution_count": 57,
     "metadata": {},
     "output_type": "execute_result"
    }
   ],
   "source": [
    "y_pred = model.predict(X_test)\n",
    "y_pred[0]"
   ]
  },
  {
   "cell_type": "code",
   "execution_count": 58,
   "id": "cc4eaddf",
   "metadata": {
    "execution": {
     "iopub.execute_input": "2024-02-18T20:10:37.413914Z",
     "iopub.status.busy": "2024-02-18T20:10:37.413562Z",
     "iopub.status.idle": "2024-02-18T20:10:37.418003Z",
     "shell.execute_reply": "2024-02-18T20:10:37.417228Z"
    },
    "papermill": {
     "duration": 0.19938,
     "end_time": "2024-02-18T20:10:37.419930",
     "exception": false,
     "start_time": "2024-02-18T20:10:37.220550",
     "status": "completed"
    },
    "tags": []
   },
   "outputs": [],
   "source": [
    "y_pred = np.round(y_pred)"
   ]
  },
  {
   "cell_type": "code",
   "execution_count": 59,
   "id": "2ffd2f0e",
   "metadata": {
    "execution": {
     "iopub.execute_input": "2024-02-18T20:10:37.849212Z",
     "iopub.status.busy": "2024-02-18T20:10:37.848857Z",
     "iopub.status.idle": "2024-02-18T20:10:37.869526Z",
     "shell.execute_reply": "2024-02-18T20:10:37.868517Z"
    },
    "papermill": {
     "duration": 0.259798,
     "end_time": "2024-02-18T20:10:37.871667",
     "exception": false,
     "start_time": "2024-02-18T20:10:37.611869",
     "status": "completed"
    },
    "tags": []
   },
   "outputs": [
    {
     "name": "stdout",
     "output_type": "stream",
     "text": [
      "              precision    recall  f1-score   support\n",
      "\n",
      "           0       0.75      0.18      0.29       319\n",
      "           1       0.72      0.53      0.61       585\n",
      "           2       0.66      0.21      0.31       296\n",
      "\n",
      "   micro avg       0.71      0.36      0.47      1200\n",
      "   macro avg       0.71      0.30      0.40      1200\n",
      "weighted avg       0.71      0.36      0.45      1200\n",
      " samples avg       0.36      0.36      0.36      1200\n",
      "\n"
     ]
    },
    {
     "name": "stderr",
     "output_type": "stream",
     "text": [
      "/opt/conda/lib/python3.10/site-packages/sklearn/metrics/_classification.py:1344: UndefinedMetricWarning: Precision and F-score are ill-defined and being set to 0.0 in samples with no predicted labels. Use `zero_division` parameter to control this behavior.\n",
      "  _warn_prf(average, modifier, msg_start, len(result))\n"
     ]
    }
   ],
   "source": [
    "print(classification_report(y_test,y_pred))"
   ]
  }
 ],
 "metadata": {
  "kaggle": {
   "accelerator": "gpu",
   "dataSources": [
    {
     "datasetId": 1520310,
     "sourceId": 2510329,
     "sourceType": "datasetVersion"
    }
   ],
   "dockerImageVersionId": 30648,
   "isGpuEnabled": true,
   "isInternetEnabled": true,
   "language": "python",
   "sourceType": "notebook"
  },
  "kernelspec": {
   "display_name": "Python 3 (ipykernel)",
   "language": "python",
   "name": "python3"
  },
  "language_info": {
   "codemirror_mode": {
    "name": "ipython",
    "version": 3
   },
   "file_extension": ".py",
   "mimetype": "text/x-python",
   "name": "python",
   "nbconvert_exporter": "python",
   "pygments_lexer": "ipython3",
   "version": "3.9.13"
  },
  "papermill": {
   "default_parameters": {},
   "duration": 704.575255,
   "end_time": "2024-02-18T20:10:41.406093",
   "environment_variables": {},
   "exception": null,
   "input_path": "__notebook__.ipynb",
   "output_path": "__notebook__.ipynb",
   "parameters": {},
   "start_time": "2024-02-18T19:58:56.830838",
   "version": "2.5.0"
  }
 },
 "nbformat": 4,
 "nbformat_minor": 5
}
